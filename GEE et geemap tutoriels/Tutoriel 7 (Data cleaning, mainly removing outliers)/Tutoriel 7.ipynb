{
 "cells": [
  {
   "cell_type": "markdown",
   "metadata": {
    "cell_id": "00000-1a0b4ff2-32e2-49d5-b4ef-a03fbc8bbae2",
    "deepnote_cell_type": "text-cell-h1",
    "tags": []
   },
   "source": [
    "# Detection and Removal of Outliers :"
   ]
  },
  {
   "cell_type": "code",
   "execution_count": 5,
   "metadata": {
    "cell_id": "00001-4aa7d911-8907-4cc3-95c1-f05457026667",
    "deepnote_cell_type": "code",
    "deepnote_to_be_reexecuted": false,
    "execution_millis": 1610,
    "execution_start": 1618698488065,
    "source_hash": "55a96733",
    "tags": []
   },
   "outputs": [],
   "source": [
    "import pandas as pd\n",
    "import numpy as np\n",
    "import matplotlib.pyplot as plt\n",
    "import seaborn as sns\n",
    "import sklearn"
   ]
  },
  {
   "cell_type": "code",
   "execution_count": 11,
   "metadata": {
    "cell_id": "00002-f12f6fbc-4a97-4285-9359-cc176d0563d6",
    "deepnote_cell_type": "code",
    "deepnote_to_be_reexecuted": false,
    "execution_millis": 71,
    "execution_start": 1618698915933,
    "source_hash": "3a1d3885",
    "tags": []
   },
   "outputs": [
    {
     "data": {
      "application/vnd.deepnote.dataframe.v2+json": {
       "column_count": 12,
       "columns": [
        {
         "dtype": "float64",
         "name": "Oriental",
         "stats": {
          "histogram": [
           {
            "bin_end": 97643.14590847988,
            "bin_start": 82358.10437280843,
            "count": 2
           },
           {
            "bin_end": 112928.18744415135,
            "bin_start": 97643.14590847988,
            "count": 6
           },
           {
            "bin_end": 128213.2289798228,
            "bin_start": 112928.18744415135,
            "count": 9
           },
           {
            "bin_end": 143498.27051549425,
            "bin_start": 128213.2289798228,
            "count": 15
           },
           {
            "bin_end": 158783.31205116573,
            "bin_start": 143498.27051549425,
            "count": 6
           },
           {
            "bin_end": 174068.35358683718,
            "bin_start": 158783.31205116573,
            "count": 6
           },
           {
            "bin_end": 189353.39512250863,
            "bin_start": 174068.35358683718,
            "count": 19
           },
           {
            "bin_end": 204638.4366581801,
            "bin_start": 189353.39512250863,
            "count": 13
           },
           {
            "bin_end": 219923.47819385154,
            "bin_start": 204638.4366581801,
            "count": 5
           },
           {
            "bin_end": 235208.519729523,
            "bin_start": 219923.47819385154,
            "count": 3
           }
          ],
          "max": "235208.519729523",
          "min": "82358.10437280843",
          "nan_count": 0,
          "unique_count": 84
         }
        },
        {
         "dtype": "float64",
         "name": "Tanger-Tétouan-Al Hoceima",
         "stats": {
          "histogram": [
           {
            "bin_end": 93708.22180856593,
            "bin_start": 85558.97113555275,
            "count": 4
           },
           {
            "bin_end": 101857.4724815791,
            "bin_start": 93708.22180856593,
            "count": 7
           },
           {
            "bin_end": 110006.72315459227,
            "bin_start": 101857.4724815791,
            "count": 9
           },
           {
            "bin_end": 118155.97382760546,
            "bin_start": 110006.72315459227,
            "count": 11
           },
           {
            "bin_end": 126305.22450061861,
            "bin_start": 118155.97382760546,
            "count": 6
           },
           {
            "bin_end": 134454.4751736318,
            "bin_start": 126305.22450061861,
            "count": 7
           },
           {
            "bin_end": 142603.72584664496,
            "bin_start": 134454.4751736318,
            "count": 9
           },
           {
            "bin_end": 150752.97651965814,
            "bin_start": 142603.72584664496,
            "count": 15
           },
           {
            "bin_end": 158902.22719267133,
            "bin_start": 150752.97651965814,
            "count": 12
           },
           {
            "bin_end": 167051.4778656845,
            "bin_start": 158902.22719267133,
            "count": 4
           }
          ],
          "max": "167051.4778656845",
          "min": "85558.97113555275",
          "nan_count": 0,
          "unique_count": 84
         }
        },
        {
         "dtype": "float64",
         "name": "Fès-Meknès",
         "stats": {
          "histogram": [
           {
            "bin_end": 83248.88829039685,
            "bin_start": 73811.31426566176,
            "count": 2
           },
           {
            "bin_end": 92686.46231513192,
            "bin_start": 83248.88829039685,
            "count": 7
           },
           {
            "bin_end": 102124.03633986702,
            "bin_start": 92686.46231513192,
            "count": 13
           },
           {
            "bin_end": 111561.6103646021,
            "bin_start": 102124.03633986702,
            "count": 10
           },
           {
            "bin_end": 120999.18438933718,
            "bin_start": 111561.6103646021,
            "count": 6
           },
           {
            "bin_end": 130436.75841407228,
            "bin_start": 120999.18438933718,
            "count": 8
           },
           {
            "bin_end": 139874.33243880735,
            "bin_start": 130436.75841407228,
            "count": 13
           },
           {
            "bin_end": 149311.90646354243,
            "bin_start": 139874.33243880735,
            "count": 12
           },
           {
            "bin_end": 158749.48048827754,
            "bin_start": 149311.90646354243,
            "count": 6
           },
           {
            "bin_end": 168187.0545130126,
            "bin_start": 158749.48048827754,
            "count": 7
           }
          ],
          "max": "168187.0545130126",
          "min": "73811.31426566176",
          "nan_count": 0,
          "unique_count": 84
         }
        },
        {
         "dtype": "float64",
         "name": "Beni Mellal-Khénifra",
         "stats": {
          "histogram": [
           {
            "bin_end": 52463.65284490806,
            "bin_start": 45127.93733964775,
            "count": 2
           },
           {
            "bin_end": 59799.36835016836,
            "bin_start": 52463.65284490806,
            "count": 0
           },
           {
            "bin_end": 67135.08385542867,
            "bin_start": 59799.36835016836,
            "count": 16
           },
           {
            "bin_end": 74470.79936068898,
            "bin_start": 67135.08385542867,
            "count": 13
           },
           {
            "bin_end": 81806.51486594928,
            "bin_start": 74470.79936068898,
            "count": 6
           },
           {
            "bin_end": 89142.23037120959,
            "bin_start": 81806.51486594928,
            "count": 9
           },
           {
            "bin_end": 96477.9458764699,
            "bin_start": 89142.23037120959,
            "count": 15
           },
           {
            "bin_end": 103813.6613817302,
            "bin_start": 96477.9458764699,
            "count": 15
           },
           {
            "bin_end": 111149.3768869905,
            "bin_start": 103813.6613817302,
            "count": 4
           },
           {
            "bin_end": 118485.0923922508,
            "bin_start": 111149.3768869905,
            "count": 4
           }
          ],
          "max": "118485.0923922508",
          "min": "45127.93733964775",
          "nan_count": 0,
          "unique_count": 84
         }
        },
        {
         "dtype": "float64",
         "name": "Rabat-Salé-Kénitra",
         "stats": {
          "histogram": [
           {
            "bin_end": 96126.38908635514,
            "bin_start": 88254.20818113406,
            "count": 6
           },
           {
            "bin_end": 103998.56999157622,
            "bin_start": 96126.38908635514,
            "count": 11
           },
           {
            "bin_end": 111870.7508967973,
            "bin_start": 103998.56999157622,
            "count": 13
           },
           {
            "bin_end": 119742.93180201837,
            "bin_start": 111870.7508967973,
            "count": 7
           },
           {
            "bin_end": 127615.11270723946,
            "bin_start": 119742.93180201837,
            "count": 7
           },
           {
            "bin_end": 135487.29361246055,
            "bin_start": 127615.11270723946,
            "count": 14
           },
           {
            "bin_end": 143359.4745176816,
            "bin_start": 135487.29361246055,
            "count": 7
           },
           {
            "bin_end": 151231.6554229027,
            "bin_start": 143359.4745176816,
            "count": 12
           },
           {
            "bin_end": 159103.83632812375,
            "bin_start": 151231.6554229027,
            "count": 3
           },
           {
            "bin_end": 166976.01723334484,
            "bin_start": 159103.83632812375,
            "count": 4
           }
          ],
          "max": "166976.01723334484",
          "min": "88254.20818113406",
          "nan_count": 0,
          "unique_count": 84
         }
        },
        {
         "dtype": "float64",
         "name": "Casablanca-Settat",
         "stats": {
          "histogram": [
           {
            "bin_end": 145787.72001553726,
            "bin_start": 135561.62880790004,
            "count": 6
           },
           {
            "bin_end": 156013.81122317447,
            "bin_start": 145787.72001553726,
            "count": 5
           },
           {
            "bin_end": 166239.90243081166,
            "bin_start": 156013.81122317447,
            "count": 19
           },
           {
            "bin_end": 176465.99363844888,
            "bin_start": 166239.90243081166,
            "count": 5
           },
           {
            "bin_end": 186692.0848460861,
            "bin_start": 176465.99363844888,
            "count": 15
           },
           {
            "bin_end": 196918.17605372332,
            "bin_start": 186692.0848460861,
            "count": 5
           },
           {
            "bin_end": 207144.26726136054,
            "bin_start": 196918.17605372332,
            "count": 11
           },
           {
            "bin_end": 217370.35846899776,
            "bin_start": 207144.26726136054,
            "count": 9
           },
           {
            "bin_end": 227596.44967663498,
            "bin_start": 217370.35846899776,
            "count": 7
           },
           {
            "bin_end": 237822.54088427217,
            "bin_start": 227596.44967663498,
            "count": 2
           }
          ],
          "max": "237822.54088427217",
          "min": "135561.62880790004",
          "nan_count": 0,
          "unique_count": 84
         }
        },
        {
         "dtype": "float64",
         "name": "Marrakech-Safi",
         "stats": {
          "histogram": [
           {
            "bin_end": 87236.03937152444,
            "bin_start": 77567.76856661109,
            "count": 2
           },
           {
            "bin_end": 96904.3101764378,
            "bin_start": 87236.03937152444,
            "count": 0
           },
           {
            "bin_end": 106572.58098135114,
            "bin_start": 96904.3101764378,
            "count": 11
           },
           {
            "bin_end": 116240.85178626448,
            "bin_start": 106572.58098135114,
            "count": 15
           },
           {
            "bin_end": 125909.12259117785,
            "bin_start": 116240.85178626448,
            "count": 7
           },
           {
            "bin_end": 135577.39339609118,
            "bin_start": 125909.12259117785,
            "count": 8
           },
           {
            "bin_end": 145245.66420100455,
            "bin_start": 135577.39339609118,
            "count": 16
           },
           {
            "bin_end": 154913.93500591788,
            "bin_start": 145245.66420100455,
            "count": 10
           },
           {
            "bin_end": 164582.20581083122,
            "bin_start": 154913.93500591788,
            "count": 11
           },
           {
            "bin_end": 174250.47661574458,
            "bin_start": 164582.20581083122,
            "count": 4
           }
          ],
          "max": "174250.47661574458",
          "min": "77567.76856661109",
          "nan_count": 0,
          "unique_count": 84
         }
        },
        {
         "dtype": "float64",
         "name": "Draa-Tafilalet",
         "stats": {
          "histogram": [
           {
            "bin_end": 27544.559153411596,
            "bin_start": 8439.521740411168,
            "count": 2
           },
           {
            "bin_end": 46649.59656641202,
            "bin_start": 27544.559153411596,
            "count": 5
           },
           {
            "bin_end": 65754.63397941245,
            "bin_start": 46649.59656641202,
            "count": 10
           },
           {
            "bin_end": 84859.67139241289,
            "bin_start": 65754.63397941245,
            "count": 19
           },
           {
            "bin_end": 103964.7088054133,
            "bin_start": 84859.67139241289,
            "count": 4
           },
           {
            "bin_end": 123069.74621841373,
            "bin_start": 103964.7088054133,
            "count": 9
           },
           {
            "bin_end": 142174.78363141418,
            "bin_start": 123069.74621841373,
            "count": 17
           },
           {
            "bin_end": 161279.8210444146,
            "bin_start": 142174.78363141418,
            "count": 12
           },
           {
            "bin_end": 180384.85845741502,
            "bin_start": 161279.8210444146,
            "count": 3
           },
           {
            "bin_end": 199489.89587041544,
            "bin_start": 180384.85845741502,
            "count": 3
           }
          ],
          "max": "199489.89587041544",
          "min": "8439.521740411168",
          "nan_count": 0,
          "unique_count": 84
         }
        },
        {
         "dtype": "float64",
         "name": "Souss-Massa",
         "stats": {
          "histogram": [
           {
            "bin_end": 52768.09183061597,
            "bin_start": 41009.57940578072,
            "count": 2
           },
           {
            "bin_end": 64526.60425545122,
            "bin_start": 52768.09183061597,
            "count": 8
           },
           {
            "bin_end": 76285.11668028646,
            "bin_start": 64526.60425545122,
            "count": 9
           },
           {
            "bin_end": 88043.62910512171,
            "bin_start": 76285.11668028646,
            "count": 17
           },
           {
            "bin_end": 99802.14152995696,
            "bin_start": 88043.62910512171,
            "count": 4
           },
           {
            "bin_end": 111560.6539547922,
            "bin_start": 99802.14152995696,
            "count": 11
           },
           {
            "bin_end": 123319.16637962745,
            "bin_start": 111560.6539547922,
            "count": 15
           },
           {
            "bin_end": 135077.67880446272,
            "bin_start": 123319.16637962745,
            "count": 11
           },
           {
            "bin_end": 146836.19122929795,
            "bin_start": 135077.67880446272,
            "count": 4
           },
           {
            "bin_end": 158594.7036541332,
            "bin_start": 146836.19122929795,
            "count": 3
           }
          ],
          "max": "158594.7036541332",
          "min": "41009.57940578072",
          "nan_count": 0,
          "unique_count": 84
         }
        },
        {
         "dtype": "float64",
         "name": "Guelmim-Oued Noun",
         "stats": {
          "histogram": [
           {
            "bin_end": 10716.346882444506,
            "bin_start": 1166.9460972823742,
            "count": 2
           },
           {
            "bin_end": 20265.747667606636,
            "bin_start": 10716.346882444506,
            "count": 3
           },
           {
            "bin_end": 29815.148452768768,
            "bin_start": 20265.747667606636,
            "count": 14
           },
           {
            "bin_end": 39364.5492379309,
            "bin_start": 29815.148452768768,
            "count": 14
           },
           {
            "bin_end": 48913.95002309303,
            "bin_start": 39364.5492379309,
            "count": 9
           },
           {
            "bin_end": 58463.35080825516,
            "bin_start": 48913.95002309303,
            "count": 6
           },
           {
            "bin_end": 68012.7515934173,
            "bin_start": 58463.35080825516,
            "count": 14
           },
           {
            "bin_end": 77562.15237857943,
            "bin_start": 68012.7515934173,
            "count": 15
           },
           {
            "bin_end": 87111.55316374156,
            "bin_start": 77562.15237857943,
            "count": 4
           },
           {
            "bin_end": 96660.95394890368,
            "bin_start": 87111.55316374156,
            "count": 3
           }
          ],
          "max": "96660.95394890368",
          "min": "1166.9460972823742",
          "nan_count": 0,
          "unique_count": 84
         }
        },
        {
         "dtype": "float64",
         "name": "Laayoune-Sakia-El-Hamra",
         "stats": {
          "histogram": [
           {
            "bin_end": 28545.683053547436,
            "bin_start": -1115.804633886071,
            "count": 2
           },
           {
            "bin_end": 58207.17074098094,
            "bin_start": 28545.683053547436,
            "count": 7
           },
           {
            "bin_end": 87868.65842841445,
            "bin_start": 58207.17074098094,
            "count": 13
           },
           {
            "bin_end": 117530.14611584795,
            "bin_start": 87868.65842841445,
            "count": 13
           },
           {
            "bin_end": 147191.63380328147,
            "bin_start": 117530.14611584795,
            "count": 10
           },
           {
            "bin_end": 176853.12149071498,
            "bin_start": 147191.63380328147,
            "count": 8
           },
           {
            "bin_end": 206514.60917814847,
            "bin_start": 176853.12149071498,
            "count": 17
           },
           {
            "bin_end": 236176.096865582,
            "bin_start": 206514.60917814847,
            "count": 8
           },
           {
            "bin_end": 265837.5845530155,
            "bin_start": 236176.096865582,
            "count": 4
           },
           {
            "bin_end": 295499.07224044896,
            "bin_start": 265837.5845530155,
            "count": 2
           }
          ],
          "max": "295499.07224044896",
          "min": "-1115.804633886071",
          "nan_count": 0,
          "unique_count": 84
         }
        },
        {
         "dtype": "float64",
         "name": "Dakhla-Oued Ed-Dahab",
         "stats": {
          "histogram": [
           {
            "bin_end": 8233.769165958704,
            "bin_start": -17798.148533247044,
            "count": 3
           },
           {
            "bin_end": 34265.68686516445,
            "bin_start": 8233.769165958704,
            "count": 6
           },
           {
            "bin_end": 60297.604564370195,
            "bin_start": 34265.68686516445,
            "count": 17
           },
           {
            "bin_end": 86329.52226357594,
            "bin_start": 60297.604564370195,
            "count": 10
           },
           {
            "bin_end": 112361.43996278169,
            "bin_start": 86329.52226357594,
            "count": 8
           },
           {
            "bin_end": 138393.35766198745,
            "bin_start": 112361.43996278169,
            "count": 10
           },
           {
            "bin_end": 164425.2753611932,
            "bin_start": 138393.35766198745,
            "count": 17
           },
           {
            "bin_end": 190457.19306039895,
            "bin_start": 164425.2753611932,
            "count": 8
           },
           {
            "bin_end": 216489.1107596047,
            "bin_start": 190457.19306039895,
            "count": 3
           },
           {
            "bin_end": 242521.02845881044,
            "bin_start": 216489.1107596047,
            "count": 2
           }
          ],
          "max": "242521.02845881044",
          "min": "-17798.148533247044",
          "nan_count": 0,
          "unique_count": 84
         }
        },
        {
         "dtype": "datetime64[ns]",
         "name": "_deepnote_index_column"
        }
       ],
       "row_count": 84,
       "rows_bottom": [
        {
         "Beni Mellal-Khénifra": 89789.44706277823,
         "Casablanca-Settat": 182342.20869987685,
         "Dakhla-Oued Ed-Dahab": 114233.34565124236,
         "Draa-Tafilalet": 111707.75004016048,
         "Fès-Meknès": 132040.19572111886,
         "Guelmim-Oued Noun": 52032.21422285067,
         "Laayoune-Sakia-El-Hamra": 145515.88342876954,
         "Marrakech-Safi": 141463.78980437925,
         "Oriental": 175854.52350391744,
         "Rabat-Salé-Kénitra": 134514.15662963764,
         "Souss-Massa": 106315.07793202256,
         "Tanger-Tétouan-Al Hoceima": 150349.66933414032,
         "_deepnote_index_column": "2017-07-01T00:00:00.000000"
        },
        {
         "Beni Mellal-Khénifra": 89406.26909983646,
         "Casablanca-Settat": 180459.46727691,
         "Dakhla-Oued Ed-Dahab": 138567.39595040507,
         "Draa-Tafilalet": 113618.74961269808,
         "Fès-Meknès": 127493.92056506802,
         "Guelmim-Oued Noun": 60750.715924848366,
         "Laayoune-Sakia-El-Hamra": 168528.49026649172,
         "Marrakech-Safi": 141269.5442165619,
         "Oriental": 161849.6866963062,
         "Rabat-Salé-Kénitra": 127682.94351337192,
         "Souss-Massa": 107656.48781368266,
         "Tanger-Tétouan-Al Hoceima": 139306.24855796568,
         "_deepnote_index_column": "2017-08-01T00:00:00.000000"
        },
        {
         "Beni Mellal-Khénifra": 98477.89076303104,
         "Casablanca-Settat": 183912.3667276145,
         "Dakhla-Oued Ed-Dahab": 178865.73394167292,
         "Draa-Tafilalet": 132065.3572512202,
         "Fès-Meknès": 145975.16663167227,
         "Guelmim-Oued Noun": 68844.82415076284,
         "Laayoune-Sakia-El-Hamra": 218522.5901129715,
         "Marrakech-Safi": 148887.2426164453,
         "Oriental": 185307.8316848073,
         "Rabat-Salé-Kénitra": 133112.19459765696,
         "Souss-Massa": 119371.22691703594,
         "Tanger-Tétouan-Al Hoceima": 143820.57374758233,
         "_deepnote_index_column": "2017-09-01T00:00:00.000000"
        },
        {
         "Beni Mellal-Khénifra": 112095.26419105414,
         "Casablanca-Settat": 202406.1850813473,
         "Dakhla-Oued Ed-Dahab": 238237.43970057284,
         "Draa-Tafilalet": 182901.8659800591,
         "Fès-Meknès": 168187.0545130126,
         "Guelmim-Oued Noun": 90403.62523294176,
         "Laayoune-Sakia-El-Hamra": 280392.14254490647,
         "Marrakech-Safi": 174250.47661574458,
         "Oriental": 227724.89519683487,
         "Rabat-Salé-Kénitra": 145142.65477460882,
         "Souss-Massa": 151951.9574527059,
         "Tanger-Tétouan-Al Hoceima": 152187.18771299103,
         "_deepnote_index_column": "2017-10-01T00:00:00.000000"
        },
        {
         "Beni Mellal-Khénifra": 108312.13215808597,
         "Casablanca-Settat": 210985.92038343253,
         "Dakhla-Oued Ed-Dahab": 164171.88071175272,
         "Draa-Tafilalet": 168110.3959768674,
         "Fès-Meknès": 163163.53941731388,
         "Guelmim-Oued Noun": 82202.84501928996,
         "Laayoune-Sakia-El-Hamra": 234891.41413900588,
         "Marrakech-Safi": 166457.0171229495,
         "Oriental": 210265.94625651985,
         "Rabat-Salé-Kénitra": 146621.21370115413,
         "Souss-Massa": 134766.26130923018,
         "Tanger-Tétouan-Al Hoceima": 151258.94973442474,
         "_deepnote_index_column": "2017-11-01T00:00:00.000000"
        },
        {
         "Beni Mellal-Khénifra": 100460.61674721308,
         "Casablanca-Settat": 203774.2056759408,
         "Dakhla-Oued Ed-Dahab": 124447.90888399414,
         "Draa-Tafilalet": 142466.52579140267,
         "Fès-Meknès": 147545.73249387753,
         "Guelmim-Oued Noun": 70780.68785183257,
         "Laayoune-Sakia-El-Hamra": 185699.47371562448,
         "Marrakech-Safi": 150535.01714213582,
         "Oriental": 191224.3600574467,
         "Rabat-Salé-Kénitra": 143804.50052392343,
         "Souss-Massa": 127676.62830666156,
         "Tanger-Tétouan-Al Hoceima": 147360.36666958538,
         "_deepnote_index_column": "2017-12-01T00:00:00.000000"
        },
        {
         "Beni Mellal-Khénifra": 93674.1988971811,
         "Casablanca-Settat": 175648.72751930024,
         "Dakhla-Oued Ed-Dahab": 113646.33637272588,
         "Draa-Tafilalet": 143830.5228450247,
         "Fès-Meknès": 131545.1039968978,
         "Guelmim-Oued Noun": 62725.27505547137,
         "Laayoune-Sakia-El-Hamra": 177880.31495493947,
         "Marrakech-Safi": 138539.8496008092,
         "Oriental": 187455.15889938836,
         "Rabat-Salé-Kénitra": 123929.31740654648,
         "Souss-Massa": 116376.84977065831,
         "Tanger-Tétouan-Al Hoceima": 141359.89530735931,
         "_deepnote_index_column": "2018-01-01T00:00:00.000000"
        },
        {
         "Beni Mellal-Khénifra": 92852.5726087446,
         "Casablanca-Settat": 199118.4371113022,
         "Dakhla-Oued Ed-Dahab": 121985.14523937022,
         "Draa-Tafilalet": 119388.17883054697,
         "Fès-Meknès": 137099.60037819648,
         "Guelmim-Oued Noun": 58959.8010125546,
         "Laayoune-Sakia-El-Hamra": 162057.20270964163,
         "Marrakech-Safi": 142310.0518265034,
         "Oriental": 173398.67733854885,
         "Rabat-Salé-Kénitra": 135012.12380940828,
         "Souss-Massa": 109455.9805388944,
         "Tanger-Tétouan-Al Hoceima": 148131.80446397566,
         "_deepnote_index_column": "2018-02-01T00:00:00.000000"
        },
        {
         "Beni Mellal-Khénifra": 88624.18485972803,
         "Casablanca-Settat": 186216.92116263064,
         "Dakhla-Oued Ed-Dahab": 161785.2942696034,
         "Draa-Tafilalet": 130220.12989592656,
         "Fès-Meknès": 121999.89070746108,
         "Guelmim-Oued Noun": 65996.01820630915,
         "Laayoune-Sakia-El-Hamra": 196176.10539486585,
         "Marrakech-Safi": 144882.52233825374,
         "Oriental": 178897.8607515474,
         "Rabat-Salé-Kénitra": 126857.61538984955,
         "Souss-Massa": 120097.4384348571,
         "Tanger-Tétouan-Al Hoceima": 124977.75991761129,
         "_deepnote_index_column": "2018-03-01T00:00:00.000000"
        },
        {
         "Beni Mellal-Khénifra": 92196.0707960047,
         "Casablanca-Settat": 183018.4691161795,
         "Dakhla-Oued Ed-Dahab": 165056.09578700183,
         "Draa-Tafilalet": 130656.18784974272,
         "Fès-Meknès": 126946.30645841986,
         "Guelmim-Oued Noun": 71474.92490664951,
         "Laayoune-Sakia-El-Hamra": 211089.72231905223,
         "Marrakech-Safi": 133556.45737029248,
         "Oriental": 174418.04316890615,
         "Rabat-Salé-Kénitra": 126376.14732186274,
         "Souss-Massa": 119737.5435378072,
         "Tanger-Tétouan-Al Hoceima": 133631.14665263824,
         "_deepnote_index_column": "2018-04-01T00:00:00.000000"
        },
        {
         "Beni Mellal-Khénifra": 95622.82861038986,
         "Casablanca-Settat": 203056.1833797709,
         "Dakhla-Oued Ed-Dahab": 154442.17974756347,
         "Draa-Tafilalet": 138618.5592840673,
         "Fès-Meknès": 140460.79321597918,
         "Guelmim-Oued Noun": 67292.74786608576,
         "Laayoune-Sakia-El-Hamra": 199850.4435016325,
         "Marrakech-Safi": 146177.84912091974,
         "Oriental": 192981.83379230645,
         "Rabat-Salé-Kénitra": 137425.68835455418,
         "Souss-Massa": 115487.70137591564,
         "Tanger-Tétouan-Al Hoceima": 151144.99470988385,
         "_deepnote_index_column": "2018-05-01T00:00:00.000000"
        },
        {
         "Beni Mellal-Khénifra": 97697.49720787114,
         "Casablanca-Settat": 198542.14800705723,
         "Dakhla-Oued Ed-Dahab": 152621.18322496538,
         "Draa-Tafilalet": 132672.28615134206,
         "Fès-Meknès": 145510.78078950808,
         "Guelmim-Oued Noun": 68110.15923847599,
         "Laayoune-Sakia-El-Hamra": 199253.1129182792,
         "Marrakech-Safi": 156707.49350578288,
         "Oriental": 193306.45141501637,
         "Rabat-Salé-Kénitra": 145915.91085866143,
         "Souss-Massa": 123021.1792314352,
         "Tanger-Tétouan-Al Hoceima": 157349.5553315823,
         "_deepnote_index_column": "2018-06-01T00:00:00.000000"
        },
        {
         "Beni Mellal-Khénifra": 96781.1498103693,
         "Casablanca-Settat": 184448.1832343884,
         "Dakhla-Oued Ed-Dahab": 158565.48363980895,
         "Draa-Tafilalet": 131550.01533602012,
         "Fès-Meknès": 143321.59991327667,
         "Guelmim-Oued Noun": 70305.40170106337,
         "Laayoune-Sakia-El-Hamra": 203969.2689256492,
         "Marrakech-Safi": 150577.7776969028,
         "Oriental": 190285.1326545478,
         "Rabat-Salé-Kénitra": 136407.3998980522,
         "Souss-Massa": 119045.32778937096,
         "Tanger-Tétouan-Al Hoceima": 152613.61316210093,
         "_deepnote_index_column": "2018-07-01T00:00:00.000000"
        },
        {
         "Beni Mellal-Khénifra": 88225.08821163418,
         "Casablanca-Settat": 165786.38636154952,
         "Dakhla-Oued Ed-Dahab": 111377.9649913102,
         "Draa-Tafilalet": 99989.97660022018,
         "Fès-Meknès": 130555.17692023456,
         "Guelmim-Oued Noun": 45696.57312474148,
         "Laayoune-Sakia-El-Hamra": 135500.51426770497,
         "Marrakech-Safi": 133110.34595232658,
         "Oriental": 162710.74840958434,
         "Rabat-Salé-Kénitra": 126064.452715262,
         "Souss-Massa": 96458.77311306704,
         "Tanger-Tétouan-Al Hoceima": 149906.91433449063,
         "_deepnote_index_column": "2018-08-01T00:00:00.000000"
        },
        {
         "Beni Mellal-Khénifra": 87382.52402987513,
         "Casablanca-Settat": 180329.1529150537,
         "Dakhla-Oued Ed-Dahab": 139442.35819407704,
         "Draa-Tafilalet": 104948.06842099622,
         "Fès-Meknès": 122458.17855485788,
         "Guelmim-Oued Noun": 54229.68118386532,
         "Laayoune-Sakia-El-Hamra": 164687.0442060421,
         "Marrakech-Safi": 135529.5599857274,
         "Oriental": 152551.00662574655,
         "Rabat-Salé-Kénitra": 127447.84653672906,
         "Souss-Massa": 102463.78281734874,
         "Tanger-Tétouan-Al Hoceima": 135137.98464116975,
         "_deepnote_index_column": "2018-09-01T00:00:00.000000"
        },
        {
         "Beni Mellal-Khénifra": 87666.52068768509,
         "Casablanca-Settat": 187181.93783773168,
         "Dakhla-Oued Ed-Dahab": 142965.18535873076,
         "Draa-Tafilalet": 130046.44897835888,
         "Fès-Meknès": 134550.32131188686,
         "Guelmim-Oued Noun": 60984.97930529078,
         "Laayoune-Sakia-El-Hamra": 179099.88315065307,
         "Marrakech-Safi": 140534.91907106896,
         "Oriental": 181883.42062576336,
         "Rabat-Salé-Kénitra": 129270.74536579206,
         "Souss-Massa": 116857.8691640994,
         "Tanger-Tétouan-Al Hoceima": 147379.74080714164,
         "_deepnote_index_column": "2018-10-01T00:00:00.000000"
        },
        {
         "Beni Mellal-Khénifra": 94794.07125935722,
         "Casablanca-Settat": 197992.5711871687,
         "Dakhla-Oued Ed-Dahab": 149257.86132584096,
         "Draa-Tafilalet": 144560.1807628494,
         "Fès-Meknès": 138638.71763529227,
         "Guelmim-Oued Noun": 66816.39836463022,
         "Laayoune-Sakia-El-Hamra": 187247.898733432,
         "Marrakech-Safi": 142742.11208664166,
         "Oriental": 194078.752710734,
         "Rabat-Salé-Kénitra": 133493.2694264746,
         "Souss-Massa": 122977.86194845191,
         "Tanger-Tétouan-Al Hoceima": 144589.4222437406,
         "_deepnote_index_column": "2018-11-01T00:00:00.000000"
        },
        {
         "Beni Mellal-Khénifra": 88798.84444007503,
         "Casablanca-Settat": 198634.65324559755,
         "Dakhla-Oued Ed-Dahab": 76911.05829618013,
         "Draa-Tafilalet": 109572.6374615752,
         "Fès-Meknès": 129198.38598261042,
         "Guelmim-Oued Noun": 47931.34623110591,
         "Laayoune-Sakia-El-Hamra": 118994.13792092884,
         "Marrakech-Safi": 137637.71939226406,
         "Oriental": 175904.73518652606,
         "Rabat-Salé-Kénitra": 134492.38793037576,
         "Souss-Massa": 103562.80479125962,
         "Tanger-Tétouan-Al Hoceima": 144926.98661546424,
         "_deepnote_index_column": "2018-12-01T00:00:00.000000"
        },
        {
         "Beni Mellal-Khénifra": 82318.67725769898,
         "Casablanca-Settat": 197771.06483670897,
         "Dakhla-Oued Ed-Dahab": 47892.7214680211,
         "Draa-Tafilalet": 74673.68476500317,
         "Fès-Meknès": 123725.15203696532,
         "Guelmim-Oued Noun": 31923.950291788813,
         "Laayoune-Sakia-El-Hamra": 82283.18214648831,
         "Marrakech-Safi": 127934.78973013825,
         "Oriental": 153290.32548027896,
         "Rabat-Salé-Kénitra": 135091.20590969725,
         "Souss-Massa": 84282.2545571566,
         "Tanger-Tétouan-Al Hoceima": 153900.74256772434,
         "_deepnote_index_column": "2019-01-01T00:00:00.000000"
        },
        {
         "Beni Mellal-Khénifra": 82519.66934914206,
         "Casablanca-Settat": 198175.43912192003,
         "Dakhla-Oued Ed-Dahab": 40782.78004205704,
         "Draa-Tafilalet": 81357.56105028669,
         "Fès-Meknès": 121190.05521276276,
         "Guelmim-Oued Noun": 31560.883321107725,
         "Laayoune-Sakia-El-Hamra": 72339.55481706405,
         "Marrakech-Safi": 128154.27868493082,
         "Oriental": 158860.82911803038,
         "Rabat-Salé-Kénitra": 132574.19923548264,
         "Souss-Massa": 86712.52355878885,
         "Tanger-Tétouan-Al Hoceima": 150127.45821822065,
         "_deepnote_index_column": "2019-02-01T00:00:00.000000"
        },
        {
         "Beni Mellal-Khénifra": 89115.98034712706,
         "Casablanca-Settat": 211193.1673741181,
         "Dakhla-Oued Ed-Dahab": 106563.05583212794,
         "Draa-Tafilalet": 103231.58020538236,
         "Fès-Meknès": 133462.81678213683,
         "Guelmim-Oued Noun": 48822.1849468289,
         "Laayoune-Sakia-El-Hamra": 138212.39126576806,
         "Marrakech-Safi": 138276.68282111862,
         "Oriental": 172065.273379058,
         "Rabat-Salé-Kénitra": 146752.06034758323,
         "Souss-Massa": 101890.47993210716,
         "Tanger-Tétouan-Al Hoceima": 153333.0891461993,
         "_deepnote_index_column": "2019-03-01T00:00:00.000000"
        },
        {
         "Beni Mellal-Khénifra": 99521.71399770609,
         "Casablanca-Settat": 218829.54065329788,
         "Dakhla-Oued Ed-Dahab": 161778.72209520824,
         "Draa-Tafilalet": 144506.78936331673,
         "Fès-Meknès": 144994.1640791403,
         "Guelmim-Oued Noun": 70204.69198983692,
         "Laayoune-Sakia-El-Hamra": 202471.9914798941,
         "Marrakech-Safi": 152662.46852027698,
         "Oriental": 193117.8565053781,
         "Rabat-Salé-Kénitra": 147070.2418058524,
         "Souss-Massa": 130276.56659422498,
         "Tanger-Tétouan-Al Hoceima": 148358.63891386092,
         "_deepnote_index_column": "2019-04-01T00:00:00.000000"
        },
        {
         "Beni Mellal-Khénifra": 99167.97669579544,
         "Casablanca-Settat": 224794.53908499388,
         "Dakhla-Oued Ed-Dahab": 153218.62966572988,
         "Draa-Tafilalet": 131941.34558993918,
         "Fès-Meknès": 148906.0137614393,
         "Guelmim-Oued Noun": 62912.29355608919,
         "Laayoune-Sakia-El-Hamra": 190881.19436195036,
         "Marrakech-Safi": 155433.01713232577,
         "Oriental": 190234.16306643168,
         "Rabat-Salé-Kénitra": 157240.07704120665,
         "Souss-Massa": 112490.24691163152,
         "Tanger-Tétouan-Al Hoceima": 160082.98944863852,
         "_deepnote_index_column": "2019-05-01T00:00:00.000000"
        },
        {
         "Beni Mellal-Khénifra": 103602.05944450836,
         "Casablanca-Settat": 219752.60440829577,
         "Dakhla-Oued Ed-Dahab": 153808.36426848534,
         "Draa-Tafilalet": 135791.48347102024,
         "Fès-Meknès": 154001.8016991822,
         "Guelmim-Oued Noun": 66901.84253966888,
         "Laayoune-Sakia-El-Hamra": 195194.22664889097,
         "Marrakech-Safi": 159323.50429891745,
         "Oriental": 204141.4426460455,
         "Rabat-Salé-Kénitra": 151626.9809437549,
         "Souss-Massa": 125316.1729766884,
         "Tanger-Tétouan-Al Hoceima": 166334.26417886806,
         "_deepnote_index_column": "2019-06-01T00:00:00.000000"
        },
        {
         "Beni Mellal-Khénifra": 91463.90102924369,
         "Casablanca-Settat": 177439.75663657728,
         "Dakhla-Oued Ed-Dahab": 104805.59546440716,
         "Draa-Tafilalet": 105990.47007602084,
         "Fès-Meknès": 136877.70254190156,
         "Guelmim-Oued Noun": 50029.93770033608,
         "Laayoune-Sakia-El-Hamra": 140529.23059002563,
         "Marrakech-Safi": 140956.8935841552,
         "Oriental": 177216.90740994437,
         "Rabat-Salé-Kénitra": 131656.61636256115,
         "Souss-Massa": 103616.55276521524,
         "Tanger-Tétouan-Al Hoceima": 156693.4136840684,
         "_deepnote_index_column": "2019-07-01T00:00:00.000000"
        },
        {
         "Beni Mellal-Khénifra": 81474.49714194764,
         "Casablanca-Settat": 175800.2151722936,
         "Dakhla-Oued Ed-Dahab": 85794.92823095049,
         "Draa-Tafilalet": 77464.36847783139,
         "Fès-Meknès": 120568.47836912022,
         "Guelmim-Oued Noun": 38881.855719814936,
         "Laayoune-Sakia-El-Hamra": 108680.02656013909,
         "Marrakech-Safi": 127314.73413210856,
         "Oriental": 144309.26123574845,
         "Rabat-Salé-Kénitra": 129865.09003111153,
         "Souss-Massa": 81038.0033110616,
         "Tanger-Tétouan-Al Hoceima": 148962.29264157478,
         "_deepnote_index_column": "2019-08-01T00:00:00.000000"
        },
        {
         "Beni Mellal-Khénifra": 90333.46926135052,
         "Casablanca-Settat": 201794.6021970956,
         "Dakhla-Oued Ed-Dahab": 125532.19828737417,
         "Draa-Tafilalet": 107890.51068935088,
         "Fès-Meknès": 139675.92147196663,
         "Guelmim-Oued Noun": 56596.278649397296,
         "Laayoune-Sakia-El-Hamra": 162604.4798193687,
         "Marrakech-Safi": 143122.8728181117,
         "Oriental": 174520.53649860603,
         "Rabat-Salé-Kénitra": 143186.535141316,
         "Souss-Massa": 106810.44336618672,
         "Tanger-Tétouan-Al Hoceima": 147524.1528770024,
         "_deepnote_index_column": "2019-09-01T00:00:00.000000"
        },
        {
         "Beni Mellal-Khénifra": 103271.5045062477,
         "Casablanca-Settat": 214115.84225859173,
         "Dakhla-Oued Ed-Dahab": 153087.1022060769,
         "Draa-Tafilalet": 146194.8540108835,
         "Fès-Meknès": 151844.18166380428,
         "Guelmim-Oued Noun": 69598.16309578963,
         "Laayoune-Sakia-El-Hamra": 193815.79086783505,
         "Marrakech-Safi": 158845.99352948295,
         "Oriental": 204263.22991172015,
         "Rabat-Salé-Kénitra": 144067.63065765993,
         "Souss-Massa": 129366.54971133814,
         "Tanger-Tétouan-Al Hoceima": 154172.0588205679,
         "_deepnote_index_column": "2019-10-01T00:00:00.000000"
        },
        {
         "Beni Mellal-Khénifra": 103457.09603834814,
         "Casablanca-Settat": 210254.14660072004,
         "Dakhla-Oued Ed-Dahab": 134573.88657815117,
         "Draa-Tafilalet": 152166.62438315022,
         "Fès-Meknès": 140482.3899973029,
         "Guelmim-Oued Noun": 72840.2428425286,
         "Laayoune-Sakia-El-Hamra": 199504.04468809225,
         "Marrakech-Safi": 156174.2073564274,
         "Oriental": 209954.7231687213,
         "Rabat-Salé-Kénitra": 132917.0407005808,
         "Souss-Massa": 131163.60136983055,
         "Tanger-Tétouan-Al Hoceima": 128727.82995745684,
         "_deepnote_index_column": "2019-11-01T00:00:00.000000"
        },
        {
         "Beni Mellal-Khénifra": 93109.80847983902,
         "Casablanca-Settat": 207727.9085592584,
         "Dakhla-Oued Ed-Dahab": 86995.1241043929,
         "Draa-Tafilalet": 126414.16295344554,
         "Fès-Meknès": 141757.98860450322,
         "Guelmim-Oued Noun": 50872.66325082151,
         "Laayoune-Sakia-El-Hamra": 134643.98256619507,
         "Marrakech-Safi": 143303.79701843602,
         "Oriental": 181839.98596811327,
         "Rabat-Salé-Kénitra": 146785.007599376,
         "Souss-Massa": 111162.48261849848,
         "Tanger-Tétouan-Al Hoceima": 142266.9146268538,
         "_deepnote_index_column": "2019-12-01T00:00:00.000000"
        },
        {
         "Beni Mellal-Khénifra": 80646.78002796139,
         "Casablanca-Settat": 208496.11288992284,
         "Dakhla-Oued Ed-Dahab": 29575.824228095385,
         "Draa-Tafilalet": 75578.51511463035,
         "Fès-Meknès": 116657.50727196256,
         "Guelmim-Oued Noun": 26411.9243402798,
         "Laayoune-Sakia-El-Hamra": 64397.11048697165,
         "Marrakech-Safi": 121640.58946214616,
         "Oriental": 140858.3759811865,
         "Rabat-Salé-Kénitra": 133385.1063758652,
         "Souss-Massa": 87047.06414863837,
         "Tanger-Tétouan-Al Hoceima": 132795.6236795369,
         "_deepnote_index_column": "2020-01-01T00:00:00.000000"
        },
        {
         "Beni Mellal-Khénifra": 108247.33352932542,
         "Casablanca-Settat": 224259.26644716712,
         "Dakhla-Oued Ed-Dahab": 135971.32289840357,
         "Draa-Tafilalet": 155377.4872617021,
         "Fès-Meknès": 160770.49027428744,
         "Guelmim-Oued Noun": 72686.45797007887,
         "Laayoune-Sakia-El-Hamra": 203111.394389902,
         "Marrakech-Safi": 163089.57947822136,
         "Oriental": 203663.8539445368,
         "Rabat-Salé-Kénitra": 162895.68193934523,
         "Souss-Massa": 137560.68862831924,
         "Tanger-Tétouan-Al Hoceima": 156713.8544496224,
         "_deepnote_index_column": "2020-02-01T00:00:00.000000"
        },
        {
         "Beni Mellal-Khénifra": 100007.45397769108,
         "Casablanca-Settat": 210103.9267335708,
         "Dakhla-Oued Ed-Dahab": 172057.3455968755,
         "Draa-Tafilalet": 136682.31845916196,
         "Fès-Meknès": 141301.77709452336,
         "Guelmim-Oued Noun": 73108.53302774929,
         "Laayoune-Sakia-El-Hamra": 215414.3537534811,
         "Marrakech-Safi": 146913.40328813164,
         "Oriental": 180650.70239407851,
         "Rabat-Salé-Kénitra": 147710.73071537528,
         "Souss-Massa": 130990.51429576492,
         "Tanger-Tétouan-Al Hoceima": 138783.46648898302,
         "_deepnote_index_column": "2020-03-01T00:00:00.000000"
        },
        {
         "Beni Mellal-Khénifra": 96162.05410108795,
         "Casablanca-Settat": 221452.37292773684,
         "Dakhla-Oued Ed-Dahab": 193563.3842517501,
         "Draa-Tafilalet": 147031.56695675565,
         "Fès-Meknès": 137166.54154558812,
         "Guelmim-Oued Noun": 76032.05415411318,
         "Laayoune-Sakia-El-Hamra": 240239.44871254548,
         "Marrakech-Safi": 143913.3290626365,
         "Oriental": 182172.8251392363,
         "Rabat-Salé-Kénitra": 148800.27285522225,
         "Souss-Massa": 130021.85129475762,
         "Tanger-Tétouan-Al Hoceima": 137844.63972784285,
         "_deepnote_index_column": "2020-04-01T00:00:00.000000"
        },
        {
         "Beni Mellal-Khénifra": 109387.9191497572,
         "Casablanca-Settat": 220713.1988335989,
         "Dakhla-Oued Ed-Dahab": 192671.5494242119,
         "Draa-Tafilalet": 170090.8947504068,
         "Fès-Meknès": 163467.6478626001,
         "Guelmim-Oued Noun": 82489.63838653773,
         "Laayoune-Sakia-El-Hamra": 246607.602381104,
         "Marrakech-Safi": 161242.77496822888,
         "Oriental": 219475.6049936279,
         "Rabat-Salé-Kénitra": 160939.38797829475,
         "Souss-Massa": 142550.8803129098,
         "Tanger-Tétouan-Al Hoceima": 157773.50616485748,
         "_deepnote_index_column": "2020-05-01T00:00:00.000000"
        },
        {
         "Beni Mellal-Khénifra": 111947.34233655936,
         "Casablanca-Settat": 194211.29431849672,
         "Dakhla-Oued Ed-Dahab": 166641.7373434991,
         "Draa-Tafilalet": 159623.17737027706,
         "Fès-Meknès": 167531.49562220345,
         "Guelmim-Oued Noun": 72658.65762612593,
         "Laayoune-Sakia-El-Hamra": 214887.1827513521,
         "Marrakech-Safi": 158738.88570192325,
         "Oriental": 215420.96434456256,
         "Rabat-Salé-Kénitra": 155635.5129127038,
         "Souss-Massa": 128243.68034274106,
         "Tanger-Tétouan-Al Hoceima": 167051.4778656845,
         "_deepnote_index_column": "2020-06-01T00:00:00.000000"
        },
        {
         "Beni Mellal-Khénifra": 99710.61742947611,
         "Casablanca-Settat": 197918.86217928564,
         "Dakhla-Oued Ed-Dahab": 127922.43123335454,
         "Draa-Tafilalet": 132228.48568611802,
         "Fès-Meknès": 150926.5633484726,
         "Guelmim-Oued Noun": 58910.75987920263,
         "Laayoune-Sakia-El-Hamra": 165542.3906259333,
         "Marrakech-Safi": 149568.83531294233,
         "Oriental": 188458.3746044565,
         "Rabat-Salé-Kénitra": 137699.36259368237,
         "Souss-Massa": 118077.22859775268,
         "Tanger-Tétouan-Al Hoceima": 146485.2222004926,
         "_deepnote_index_column": "2020-07-01T00:00:00.000000"
        },
        {
         "Beni Mellal-Khénifra": 96417.5783728847,
         "Casablanca-Settat": 209516.48252164785,
         "Dakhla-Oued Ed-Dahab": 145599.58025458138,
         "Draa-Tafilalet": 125832.83042575796,
         "Fès-Meknès": 144114.06627487385,
         "Guelmim-Oued Noun": 62033.772469280615,
         "Laayoune-Sakia-El-Hamra": 182427.89609608904,
         "Marrakech-Safi": 147459.56494759698,
         "Oriental": 182982.67499209536,
         "Rabat-Salé-Kénitra": 144933.6579207656,
         "Souss-Massa": 114311.90161233283,
         "Tanger-Tétouan-Al Hoceima": 159545.89204690547,
         "_deepnote_index_column": "2020-08-01T00:00:00.000000"
        },
        {
         "Beni Mellal-Khénifra": 99028.40472458408,
         "Casablanca-Settat": 220802.4038774236,
         "Dakhla-Oued Ed-Dahab": 207152.90410907497,
         "Draa-Tafilalet": 144679.56591068453,
         "Fès-Meknès": 144521.84935539507,
         "Guelmim-Oued Noun": 81150.02614061012,
         "Laayoune-Sakia-El-Hamra": 261474.96688861816,
         "Marrakech-Safi": 154607.11869834457,
         "Oriental": 192693.4031510636,
         "Rabat-Salé-Kénitra": 136486.11962039964,
         "Souss-Massa": 138200.55397640244,
         "Tanger-Tétouan-Al Hoceima": 141333.26529578364,
         "_deepnote_index_column": "2020-09-01T00:00:00.000000"
        },
        {
         "Beni Mellal-Khénifra": 104313.29225047804,
         "Casablanca-Settat": 230141.6630639397,
         "Dakhla-Oued Ed-Dahab": 189088.8168492218,
         "Draa-Tafilalet": 137628.62835941772,
         "Fès-Meknès": 150276.39453834668,
         "Guelmim-Oued Noun": 70231.88634774377,
         "Laayoune-Sakia-El-Hamra": 216067.79572996107,
         "Marrakech-Safi": 155396.32949369185,
         "Oriental": 201118.8373896893,
         "Rabat-Salé-Kénitra": 159719.42701563507,
         "Souss-Massa": 129131.49978353348,
         "Tanger-Tétouan-Al Hoceima": 149759.58563673685,
         "_deepnote_index_column": "2020-10-01T00:00:00.000000"
        },
        {
         "Beni Mellal-Khénifra": 113609.52701954237,
         "Casablanca-Settat": 237822.54088427217,
         "Dakhla-Oued Ed-Dahab": 242521.02845881044,
         "Draa-Tafilalet": 180683.21159024883,
         "Fès-Meknès": 167754.83160847393,
         "Guelmim-Oued Noun": 96660.95394890368,
         "Laayoune-Sakia-El-Hamra": 295499.07224044896,
         "Marrakech-Safi": 173342.5685654278,
         "Oriental": 234669.9282001193,
         "Rabat-Salé-Kénitra": 166976.01723334484,
         "Souss-Massa": 158594.7036541332,
         "Tanger-Tétouan-Al Hoceima": 157144.73559036042,
         "_deepnote_index_column": "2020-11-01T00:00:00.000000"
        },
        {
         "Beni Mellal-Khénifra": 118485.0923922508,
         "Casablanca-Settat": 212080.41728302056,
         "Dakhla-Oued Ed-Dahab": 180940.78025671307,
         "Draa-Tafilalet": 199489.89587041544,
         "Fès-Meknès": 163949.86153167678,
         "Guelmim-Oued Noun": 89366.5229375582,
         "Laayoune-Sakia-El-Hamra": 256522.02661688876,
         "Marrakech-Safi": 168090.1909052473,
         "Oriental": 235208.519729523,
         "Rabat-Salé-Kénitra": 149984.1260547874,
         "Souss-Massa": 154871.72797358286,
         "Tanger-Tétouan-Al Hoceima": 141878.5982608857,
         "_deepnote_index_column": "2020-12-01T00:00:00.000000"
        }
       ],
       "rows_top": [
        {
         "Beni Mellal-Khénifra": 63062.87816227028,
         "Casablanca-Settat": 137652.0654110022,
         "Dakhla-Oued Ed-Dahab": 32942.09056235134,
         "Draa-Tafilalet": 70574.03541576098,
         "Fès-Meknès": 94494.47233882254,
         "Guelmim-Oued Noun": 26154.604526692747,
         "Laayoune-Sakia-El-Hamra": 71744.24585690533,
         "Marrakech-Safi": 101159.41821877648,
         "Oriental": 131843.68424469317,
         "Rabat-Salé-Kénitra": 97389.18381958504,
         "Souss-Massa": 73239.14987741374,
         "Tanger-Tétouan-Al Hoceima": 93092.0027075038,
         "_deepnote_index_column": "2014-01-01T00:00:00.000000"
        },
        {
         "Beni Mellal-Khénifra": 62965.9052675884,
         "Casablanca-Settat": 139918.47841530538,
         "Dakhla-Oued Ed-Dahab": 48540.58542332864,
         "Draa-Tafilalet": 73125.79618029384,
         "Fès-Meknès": 85411.06683746341,
         "Guelmim-Oued Noun": 35724.736972316285,
         "Laayoune-Sakia-El-Hamra": 86537.8659484162,
         "Marrakech-Safi": 106477.61625558011,
         "Oriental": 129066.64432803597,
         "Rabat-Salé-Kénitra": 88985.07079140042,
         "Souss-Massa": 85314.49828259536,
         "Tanger-Tétouan-Al Hoceima": 85558.97113555275,
         "_deepnote_index_column": "2014-02-01T00:00:00.000000"
        },
        {
         "Beni Mellal-Khénifra": 68628.44442544172,
         "Casablanca-Settat": 146854.77710490927,
         "Dakhla-Oued Ed-Dahab": 119392.08391368728,
         "Draa-Tafilalet": 87102.0068650751,
         "Fès-Meknès": 94277.23444017288,
         "Guelmim-Oued Noun": 48753.13734957064,
         "Laayoune-Sakia-El-Hamra": 159659.93189992363,
         "Marrakech-Safi": 113422.36493201985,
         "Oriental": 125839.06390953348,
         "Rabat-Salé-Kénitra": 95817.74164295474,
         "Souss-Massa": 92265.32225250792,
         "Tanger-Tétouan-Al Hoceima": 90001.29426674957,
         "_deepnote_index_column": "2014-03-01T00:00:00.000000"
        },
        {
         "Beni Mellal-Khénifra": 63216.04776702509,
         "Casablanca-Settat": 159795.38270718887,
         "Dakhla-Oued Ed-Dahab": 109252.28950105718,
         "Draa-Tafilalet": 67452.56317595684,
         "Fès-Meknès": 92468.82187179416,
         "Guelmim-Oued Noun": 39820.96068414552,
         "Laayoune-Sakia-El-Hamra": 134870.1484820388,
         "Marrakech-Safi": 108056.07163489338,
         "Oriental": 114641.40743094496,
         "Rabat-Salé-Kénitra": 100797.58149700638,
         "Souss-Massa": 81395.67609751875,
         "Tanger-Tétouan-Al Hoceima": 95796.14239838232,
         "_deepnote_index_column": "2014-04-01T00:00:00.000000"
        },
        {
         "Beni Mellal-Khénifra": 63336.80649348465,
         "Casablanca-Settat": 144307.67101783608,
         "Dakhla-Oued Ed-Dahab": 44178.139672024416,
         "Draa-Tafilalet": 51233.21420105184,
         "Fès-Meknès": 96385.39035144672,
         "Guelmim-Oued Noun": 22925.139472604485,
         "Laayoune-Sakia-El-Hamra": 74541.11136522231,
         "Marrakech-Safi": 98142.95278764656,
         "Oriental": 125517.8132208368,
         "Rabat-Salé-Kénitra": 102448.13935443798,
         "Souss-Massa": 58526.3277917741,
         "Tanger-Tétouan-Al Hoceima": 103743.23746878516,
         "_deepnote_index_column": "2014-05-01T00:00:00.000000"
        },
        {
         "Beni Mellal-Khénifra": 67203.08332937378,
         "Casablanca-Settat": 158776.33835580014,
         "Dakhla-Oued Ed-Dahab": 51655.16432630174,
         "Draa-Tafilalet": 58908.98684588204,
         "Fès-Meknès": 102624.91319592702,
         "Guelmim-Oued Noun": 27259.118528799983,
         "Laayoune-Sakia-El-Hamra": 65580.91830598126,
         "Marrakech-Safi": 115071.10413476714,
         "Oriental": 132450.29428964402,
         "Rabat-Salé-Kénitra": 106445.77102844793,
         "Souss-Massa": 62474.52348666334,
         "Tanger-Tétouan-Al Hoceima": 103715.14142898444,
         "_deepnote_index_column": "2014-06-01T00:00:00.000000"
        },
        {
         "Beni Mellal-Khénifra": 67800.27866809562,
         "Casablanca-Settat": 147653.34639090896,
         "Dakhla-Oued Ed-Dahab": 38516.77191277363,
         "Draa-Tafilalet": 58087.46879019507,
         "Fès-Meknès": 106097.60725422217,
         "Guelmim-Oued Noun": 22156.7120009742,
         "Laayoune-Sakia-El-Hamra": 52177.09553656679,
         "Marrakech-Safi": 116699.38702467682,
         "Oriental": 134998.47018191282,
         "Rabat-Salé-Kénitra": 108491.3635941039,
         "Souss-Massa": 69369.84207874603,
         "Tanger-Tétouan-Al Hoceima": 108058.7750397715,
         "_deepnote_index_column": "2014-07-01T00:00:00.000000"
        },
        {
         "Beni Mellal-Khénifra": 67371.57167660659,
         "Casablanca-Settat": 152086.15973291078,
         "Dakhla-Oued Ed-Dahab": 72566.15775489603,
         "Draa-Tafilalet": 64341.48767560312,
         "Fès-Meknès": 101814.23307690251,
         "Guelmim-Oued Noun": 33819.334317175344,
         "Laayoune-Sakia-El-Hamra": 93486.29693638984,
         "Marrakech-Safi": 113474.84101218336,
         "Oriental": 133666.7493867719,
         "Rabat-Salé-Kénitra": 103805.15105189402,
         "Souss-Massa": 77790.32760003748,
         "Tanger-Tétouan-Al Hoceima": 110018.39148089048,
         "_deepnote_index_column": "2014-08-01T00:00:00.000000"
        },
        {
         "Beni Mellal-Khénifra": 61509.9959659035,
         "Casablanca-Settat": 135788.51648461912,
         "Dakhla-Oued Ed-Dahab": 95382.61744263078,
         "Draa-Tafilalet": 73040.71354881862,
         "Fès-Meknès": 86424.90238078735,
         "Guelmim-Oued Noun": 39574.74206089757,
         "Laayoune-Sakia-El-Hamra": 121696.980760789,
         "Marrakech-Safi": 105400.43239641238,
         "Oriental": 127533.784616911,
         "Rabat-Salé-Kénitra": 88282.93569228084,
         "Souss-Massa": 82517.24596383753,
         "Tanger-Tétouan-Al Hoceima": 95093.92990343536,
         "_deepnote_index_column": "2014-09-01T00:00:00.000000"
        },
        {
         "Beni Mellal-Khénifra": 67515.9125627517,
         "Casablanca-Settat": 161581.48709199447,
         "Dakhla-Oued Ed-Dahab": 78520.5318349112,
         "Draa-Tafilalet": 76489.42183201708,
         "Fès-Meknès": 109607.9051815468,
         "Guelmim-Oued Noun": 38061.83794152788,
         "Laayoune-Sakia-El-Hamra": 112143.15168640498,
         "Marrakech-Safi": 112513.4502308296,
         "Oriental": 148562.85270557745,
         "Rabat-Salé-Kénitra": 102568.56414159977,
         "Souss-Massa": 81469.81350086094,
         "Tanger-Tétouan-Al Hoceima": 99662.73325590102,
         "_deepnote_index_column": "2014-10-01T00:00:00.000000"
        },
        {
         "Beni Mellal-Khénifra": 45127.93733964775,
         "Casablanca-Settat": 146444.29276712376,
         "Dakhla-Oued Ed-Dahab": -17798.148533247044,
         "Draa-Tafilalet": 8439.521740411168,
         "Fès-Meknès": 74186.65632065928,
         "Guelmim-Oued Noun": 3460.1455438503504,
         "Laayoune-Sakia-El-Hamra": -868.970524821184,
         "Marrakech-Safi": 77567.76856661109,
         "Oriental": 82358.10437280843,
         "Rabat-Salé-Kénitra": 93802.69749177436,
         "Souss-Massa": 41059.61866779278,
         "Tanger-Tétouan-Al Hoceima": 91316.12542291069,
         "_deepnote_index_column": "2014-11-01T00:00:00.000000"
        },
        {
         "Beni Mellal-Khénifra": 78576.65742392266,
         "Casablanca-Settat": 161004.43942531492,
         "Dakhla-Oued Ed-Dahab": 44510.70796869923,
         "Draa-Tafilalet": 112888.78862909436,
         "Fès-Meknès": 119335.65942153378,
         "Guelmim-Oued Noun": 40404.917497742455,
         "Laayoune-Sakia-El-Hamra": 95335.57943228692,
         "Marrakech-Safi": 125411.86016340047,
         "Oriental": 174025.5262039909,
         "Rabat-Salé-Kénitra": 105350.40306617969,
         "Souss-Massa": 92400.1491922931,
         "Tanger-Tétouan-Al Hoceima": 111731.75770553508,
         "_deepnote_index_column": "2014-12-01T00:00:00.000000"
        },
        {
         "Beni Mellal-Khénifra": 64404.04781290212,
         "Casablanca-Settat": 158212.4641731194,
         "Dakhla-Oued Ed-Dahab": 51009.42189258755,
         "Draa-Tafilalet": 76858.13864570219,
         "Fès-Meknès": 96247.60268230469,
         "Guelmim-Oued Noun": 33265.55977257084,
         "Laayoune-Sakia-El-Hamra": 81355.10427063031,
         "Marrakech-Safi": 108779.78068850476,
         "Oriental": 138239.9539327785,
         "Rabat-Salé-Kénitra": 95451.06278501404,
         "Souss-Massa": 83166.31147256997,
         "Tanger-Tétouan-Al Hoceima": 101214.47842040156,
         "_deepnote_index_column": "2015-01-01T00:00:00.000000"
        },
        {
         "Beni Mellal-Khénifra": 96712.27197612775,
         "Casablanca-Settat": 182481.84851878145,
         "Dakhla-Oued Ed-Dahab": 166691.44919097231,
         "Draa-Tafilalet": 170958.48903783428,
         "Fès-Meknès": 126824.35856561545,
         "Guelmim-Oued Noun": 78069.41083084191,
         "Laayoune-Sakia-El-Hamra": 222785.8920655228,
         "Marrakech-Safi": 145895.87186026043,
         "Oriental": 207240.33797336803,
         "Rabat-Salé-Kénitra": 112595.45422359068,
         "Souss-Massa": 138531.8424823425,
         "Tanger-Tétouan-Al Hoceima": 110653.28785295995,
         "_deepnote_index_column": "2015-02-01T00:00:00.000000"
        },
        {
         "Beni Mellal-Khénifra": 69235.35984194984,
         "Casablanca-Settat": 164253.32259329862,
         "Dakhla-Oued Ed-Dahab": 100722.34692708853,
         "Draa-Tafilalet": 83193.43952017093,
         "Fès-Meknès": 101372.00592443072,
         "Guelmim-Oued Noun": 44809.85468995162,
         "Laayoune-Sakia-El-Hamra": 131396.71280003787,
         "Marrakech-Safi": 109738.863330571,
         "Oriental": 142368.07701364974,
         "Rabat-Salé-Kénitra": 102137.19215448378,
         "Souss-Massa": 89272.31815663383,
         "Tanger-Tétouan-Al Hoceima": 105139.0937731264,
         "_deepnote_index_column": "2015-03-01T00:00:00.000000"
        },
        {
         "Beni Mellal-Khénifra": 60202.16624248398,
         "Casablanca-Settat": 156051.69538224774,
         "Dakhla-Oued Ed-Dahab": 77367.0443823955,
         "Draa-Tafilalet": 49228.42848799727,
         "Fès-Meknès": 83405.11269005902,
         "Guelmim-Oued Noun": 30994.781439631985,
         "Laayoune-Sakia-El-Hamra": 98933.641421832,
         "Marrakech-Safi": 103464.09651873694,
         "Oriental": 98868.56049293371,
         "Rabat-Salé-Kénitra": 98213.17839124848,
         "Souss-Massa": 70149.57922614802,
         "Tanger-Tétouan-Al Hoceima": 97712.5282567333,
         "_deepnote_index_column": "2015-04-01T00:00:00.000000"
        },
        {
         "Beni Mellal-Khénifra": 65546.23531210814,
         "Casablanca-Settat": 158844.15801971455,
         "Dakhla-Oued Ed-Dahab": 57377.63313377599,
         "Draa-Tafilalet": 50458.69253723967,
         "Fès-Meknès": 99483.73438481898,
         "Guelmim-Oued Noun": 27317.63760869876,
         "Laayoune-Sakia-El-Hamra": 75243.2414638319,
         "Marrakech-Safi": 98688.03128453223,
         "Oriental": 123756.16522446588,
         "Rabat-Salé-Kénitra": 103982.34726823002,
         "Souss-Massa": 61663.65225459457,
         "Tanger-Tétouan-Al Hoceima": 107814.4727247948,
         "_deepnote_index_column": "2015-05-01T00:00:00.000000"
        },
        {
         "Beni Mellal-Khénifra": 68244.95267834954,
         "Casablanca-Settat": 158087.99062559608,
         "Dakhla-Oued Ed-Dahab": 91247.38437168476,
         "Draa-Tafilalet": 70470.21816057888,
         "Fès-Meknès": 99004.797256326,
         "Guelmim-Oued Noun": 35511.04289690396,
         "Laayoune-Sakia-El-Hamra": 107718.91277726446,
         "Marrakech-Safi": 113588.989066232,
         "Oriental": 125410.28049690629,
         "Rabat-Salé-Kénitra": 106651.19068128426,
         "Souss-Massa": 72957.73314640713,
         "Tanger-Tétouan-Al Hoceima": 106389.78082509324,
         "_deepnote_index_column": "2015-06-01T00:00:00.000000"
        },
        {
         "Beni Mellal-Khénifra": 61689.14030703605,
         "Casablanca-Settat": 164036.91900606744,
         "Dakhla-Oued Ed-Dahab": 36314.71396437087,
         "Draa-Tafilalet": 43245.72590279305,
         "Fès-Meknès": 96982.85668020134,
         "Guelmim-Oued Noun": 18251.844636569174,
         "Laayoune-Sakia-El-Hamra": 46963.17272856128,
         "Marrakech-Safi": 109153.80286554636,
         "Oriental": 123646.9529858172,
         "Rabat-Salé-Kénitra": 104585.47953367728,
         "Souss-Massa": 60104.319067369,
         "Tanger-Tétouan-Al Hoceima": 113385.18922654654,
         "_deepnote_index_column": "2015-07-01T00:00:00.000000"
        },
        {
         "Beni Mellal-Khénifra": 50616.26722959592,
         "Casablanca-Settat": 135561.62880790004,
         "Dakhla-Oued Ed-Dahab": 6438.16493484817,
         "Draa-Tafilalet": 17156.237194615736,
         "Fès-Meknès": 73811.31426566176,
         "Guelmim-Oued Noun": 1166.9460972823742,
         "Laayoune-Sakia-El-Hamra": -1115.804633886071,
         "Marrakech-Safi": 81405.64757075037,
         "Oriental": 92278.69414127366,
         "Rabat-Salé-Kénitra": 88254.20818113406,
         "Souss-Massa": 41009.57940578072,
         "Tanger-Tétouan-Al Hoceima": 104039.13706719984,
         "_deepnote_index_column": "2015-08-01T00:00:00.000000"
        },
        {
         "Beni Mellal-Khénifra": 61370.53952193551,
         "Casablanca-Settat": 157643.09877604013,
         "Dakhla-Oued Ed-Dahab": 73424.34860485434,
         "Draa-Tafilalet": 40456.699206319005,
         "Fès-Meknès": 85539.88967955357,
         "Guelmim-Oued Noun": 29054.827497669336,
         "Laayoune-Sakia-El-Hamra": 88972.38690377888,
         "Marrakech-Safi": 106317.09817256118,
         "Oriental": 102215.01680276707,
         "Rabat-Salé-Kénitra": 99829.4701984466,
         "Souss-Massa": 67506.03421803177,
         "Tanger-Tétouan-Al Hoceima": 100779.1861773257,
         "_deepnote_index_column": "2015-09-01T00:00:00.000000"
        },
        {
         "Beni Mellal-Khénifra": 62338.18122487605,
         "Casablanca-Settat": 163665.3667183751,
         "Dakhla-Oued Ed-Dahab": 18032.452617223586,
         "Draa-Tafilalet": 45996.89496671152,
         "Fès-Meknès": 86427.32797394502,
         "Guelmim-Oued Noun": 23467.075635823425,
         "Laayoune-Sakia-El-Hamra": 47705.01876320926,
         "Marrakech-Safi": 101958.47497426644,
         "Oriental": 112230.80673513528,
         "Rabat-Salé-Kénitra": 96936.85131940564,
         "Souss-Massa": 65013.75119604565,
         "Tanger-Tétouan-Al Hoceima": 103656.91491947502,
         "_deepnote_index_column": "2015-10-01T00:00:00.000000"
        },
        {
         "Beni Mellal-Khénifra": 72475.12109263599,
         "Casablanca-Settat": 160900.83900004008,
         "Dakhla-Oued Ed-Dahab": 62216.32203262125,
         "Draa-Tafilalet": 79603.30758703718,
         "Fès-Meknès": 109832.32058937856,
         "Guelmim-Oued Noun": 34661.82256902171,
         "Laayoune-Sakia-El-Hamra": 93657.20063350209,
         "Marrakech-Safi": 115766.41412134438,
         "Oriental": 140609.27214569403,
         "Rabat-Salé-Kénitra": 102845.44357407386,
         "Souss-Massa": 81538.23352990011,
         "Tanger-Tétouan-Al Hoceima": 116214.83165866615,
         "_deepnote_index_column": "2015-11-01T00:00:00.000000"
        },
        {
         "Beni Mellal-Khénifra": 79520.43566121241,
         "Casablanca-Settat": 182761.5031763907,
         "Dakhla-Oued Ed-Dahab": 47971.26613485406,
         "Draa-Tafilalet": 90362.2578885667,
         "Fès-Meknès": 118853.34929800755,
         "Guelmim-Oued Noun": 37224.81823560909,
         "Laayoune-Sakia-El-Hamra": 91237.32916077788,
         "Marrakech-Safi": 126005.42779881196,
         "Oriental": 150426.8038052685,
         "Rabat-Salé-Kénitra": 116402.49001969138,
         "Souss-Massa": 87727.12632344801,
         "Tanger-Tétouan-Al Hoceima": 120933.6886429991,
         "_deepnote_index_column": "2015-12-01T00:00:00.000000"
        },
        {
         "Beni Mellal-Khénifra": 66797.87041177708,
         "Casablanca-Settat": 171982.59258217816,
         "Dakhla-Oued Ed-Dahab": -6435.822771779389,
         "Draa-Tafilalet": 72277.49216793582,
         "Fès-Meknès": 102129.42137513388,
         "Guelmim-Oued Noun": 27836.23472273767,
         "Laayoune-Sakia-El-Hamra": 43168.31426027707,
         "Marrakech-Safi": 111044.54801400714,
         "Oriental": 142809.34239918858,
         "Rabat-Salé-Kénitra": 104229.84559940934,
         "Souss-Massa": 77425.33195749173,
         "Tanger-Tétouan-Al Hoceima": 106761.05878635102,
         "_deepnote_index_column": "2016-01-01T00:00:00.000000"
        },
        {
         "Beni Mellal-Khénifra": 74312.8161709784,
         "Casablanca-Settat": 163881.44048637318,
         "Dakhla-Oued Ed-Dahab": 39801.38828187926,
         "Draa-Tafilalet": 75673.9288204848,
         "Fès-Meknès": 108407.72155832604,
         "Guelmim-Oued Noun": 41564.86479213369,
         "Laayoune-Sakia-El-Hamra": 99472.1184416344,
         "Marrakech-Safi": 117634.7133032066,
         "Oriental": 141832.8119197681,
         "Rabat-Salé-Kénitra": 106129.52320677352,
         "Souss-Massa": 87166.93034265547,
         "Tanger-Tétouan-Al Hoceima": 94033.30380791606,
         "_deepnote_index_column": "2016-02-01T00:00:00.000000"
        },
        {
         "Beni Mellal-Khénifra": 63807.809279541645,
         "Casablanca-Settat": 164263.7588098643,
         "Dakhla-Oued Ed-Dahab": 30213.84013049024,
         "Draa-Tafilalet": 37447.59892692055,
         "Fès-Meknès": 90399.40740986966,
         "Guelmim-Oued Noun": 18686.306344199114,
         "Laayoune-Sakia-El-Hamra": 47863.92237513925,
         "Marrakech-Safi": 99421.42220573014,
         "Oriental": 106221.7262093271,
         "Rabat-Salé-Kénitra": 106256.7369886062,
         "Souss-Massa": 61327.39535955519,
         "Tanger-Tétouan-Al Hoceima": 115343.81714073064,
         "_deepnote_index_column": "2016-03-01T00:00:00.000000"
        },
        {
         "Beni Mellal-Khénifra": 75903.76097445849,
         "Casablanca-Settat": 180932.18501141187,
         "Dakhla-Oued Ed-Dahab": 76391.8710747106,
         "Draa-Tafilalet": 67426.71482012681,
         "Fès-Meknès": 103780.3746196865,
         "Guelmim-Oued Noun": 34142.12156816444,
         "Laayoune-Sakia-El-Hamra": 107878.91291962548,
         "Marrakech-Safi": 115921.13556486036,
         "Oriental": 123001.70565515764,
         "Rabat-Salé-Kénitra": 118288.2054457154,
         "Souss-Massa": 81395.30180353858,
         "Tanger-Tétouan-Al Hoceima": 116713.59873716335,
         "_deepnote_index_column": "2016-04-01T00:00:00.000000"
        },
        {
         "Beni Mellal-Khénifra": 72347.79914631331,
         "Casablanca-Settat": 163714.72206899791,
         "Dakhla-Oued Ed-Dahab": 85641.27402481603,
         "Draa-Tafilalet": 82033.86535727339,
         "Fès-Meknès": 104970.70916840529,
         "Guelmim-Oued Noun": 36227.95329701987,
         "Laayoune-Sakia-El-Hamra": 106540.8892047285,
         "Marrakech-Safi": 108192.8258453037,
         "Oriental": 135603.6373455367,
         "Rabat-Salé-Kénitra": 113275.46093349071,
         "Souss-Massa": 82117.35252805638,
         "Tanger-Tétouan-Al Hoceima": 118543.58398062144,
         "_deepnote_index_column": "2016-05-01T00:00:00.000000"
        },
        {
         "Beni Mellal-Khénifra": 75626.13130249766,
         "Casablanca-Settat": 179784.1513927178,
         "Dakhla-Oued Ed-Dahab": 41765.8966918467,
         "Draa-Tafilalet": 69396.6777652402,
         "Fès-Meknès": 116030.22070767774,
         "Guelmim-Oued Noun": 25936.56890743134,
         "Laayoune-Sakia-El-Hamra": 69345.42960964233,
         "Marrakech-Safi": 118479.87892209365,
         "Oriental": 137739.40111699412,
         "Rabat-Salé-Kénitra": 124261.4518447312,
         "Souss-Massa": 68814.87679271348,
         "Tanger-Tétouan-Al Hoceima": 129904.23254979424,
         "_deepnote_index_column": "2016-06-01T00:00:00.000000"
        },
        {
         "Beni Mellal-Khénifra": 68072.29800379806,
         "Casablanca-Settat": 145067.31728759262,
         "Dakhla-Oued Ed-Dahab": 40670.57710803514,
         "Draa-Tafilalet": 50055.41225519097,
         "Fès-Meknès": 98808.119519164,
         "Guelmim-Oued Noun": 21837.55053999709,
         "Laayoune-Sakia-El-Hamra": 59133.71786654069,
         "Marrakech-Safi": 108382.11478568218,
         "Oriental": 102070.01125606844,
         "Rabat-Salé-Kénitra": 108103.78059910478,
         "Souss-Massa": 58980.40750354804,
         "Tanger-Tétouan-Al Hoceima": 116888.71242381324,
         "_deepnote_index_column": "2016-07-01T00:00:00.000000"
        },
        {
         "Beni Mellal-Khénifra": 62548.081740235546,
         "Casablanca-Settat": 161610.46419926442,
         "Dakhla-Oued Ed-Dahab": 12996.068519388466,
         "Draa-Tafilalet": 34606.0414221324,
         "Fès-Meknès": 98484.32930687851,
         "Guelmim-Oued Noun": 14838.880052447574,
         "Laayoune-Sakia-El-Hamra": 28588.961251447618,
         "Marrakech-Safi": 102978.39051206084,
         "Oriental": 112372.90289169311,
         "Rabat-Salé-Kénitra": 105450.20300620324,
         "Souss-Massa": 59292.33637382122,
         "Tanger-Tétouan-Al Hoceima": 120584.90200111287,
         "_deepnote_index_column": "2016-08-01T00:00:00.000000"
        },
        {
         "Beni Mellal-Khénifra": 64360.707891786406,
         "Casablanca-Settat": 155889.37954241823,
         "Dakhla-Oued Ed-Dahab": 41857.908012153086,
         "Draa-Tafilalet": 47944.68378917828,
         "Fès-Meknès": 97988.71312825302,
         "Guelmim-Oued Noun": 20877.7757472557,
         "Laayoune-Sakia-El-Hamra": 59355.06079586969,
         "Marrakech-Safi": 103896.4534473013,
         "Oriental": 114244.48375595803,
         "Rabat-Salé-Kénitra": 106228.42404607507,
         "Souss-Massa": 57008.76826409064,
         "Tanger-Tétouan-Al Hoceima": 113263.36439031422,
         "_deepnote_index_column": "2016-09-01T00:00:00.000000"
        },
        {
         "Beni Mellal-Khénifra": 70910.63876935242,
         "Casablanca-Settat": 158189.3113458982,
         "Dakhla-Oued Ed-Dahab": 53007.59283602798,
         "Draa-Tafilalet": 55056.29521991378,
         "Fès-Meknès": 108680.77010486122,
         "Guelmim-Oued Noun": 24538.81688239359,
         "Laayoune-Sakia-El-Hamra": 66217.31847823197,
         "Marrakech-Safi": 116920.80474117072,
         "Oriental": 129366.46521066864,
         "Rabat-Salé-Kénitra": 105674.7981471708,
         "Souss-Massa": 70664.45244732354,
         "Tanger-Tétouan-Al Hoceima": 117102.21982808976,
         "_deepnote_index_column": "2016-10-01T00:00:00.000000"
        },
        {
         "Beni Mellal-Khénifra": 74144.89349159179,
         "Casablanca-Settat": 168437.75084682318,
         "Dakhla-Oued Ed-Dahab": 58231.710567208895,
         "Draa-Tafilalet": 72096.0487327765,
         "Fès-Meknès": 110493.96541415955,
         "Guelmim-Oued Noun": 35022.790830974496,
         "Laayoune-Sakia-El-Hamra": 91809.58821922772,
         "Marrakech-Safi": 117664.40725305791,
         "Oriental": 150602.2695747261,
         "Rabat-Salé-Kénitra": 115583.7798982732,
         "Souss-Massa": 84841.45575851448,
         "Tanger-Tétouan-Al Hoceima": 121293.18424460875,
         "_deepnote_index_column": "2016-11-01T00:00:00.000000"
        },
        {
         "Beni Mellal-Khénifra": 63200.595088831134,
         "Casablanca-Settat": 167104.54709218154,
         "Dakhla-Oued Ed-Dahab": 13909.988755198365,
         "Draa-Tafilalet": 55275.13300387786,
         "Fès-Meknès": 96666.4479609462,
         "Guelmim-Oued Noun": 28532.250117238116,
         "Laayoune-Sakia-El-Hamra": 51217.95713920619,
         "Marrakech-Safi": 113363.37140524296,
         "Oriental": 128250.01715066563,
         "Rabat-Salé-Kénitra": 107807.14960172823,
         "Souss-Massa": 72640.89928527498,
         "Tanger-Tétouan-Al Hoceima": 111608.77007667645,
         "_deepnote_index_column": "2016-12-01T00:00:00.000000"
        },
        {
         "Beni Mellal-Khénifra": 81918.68699672958,
         "Casablanca-Settat": 177875.54134011272,
         "Dakhla-Oued Ed-Dahab": 72419.86210889318,
         "Draa-Tafilalet": 108213.25921969573,
         "Fès-Meknès": 119337.80496283594,
         "Guelmim-Oued Noun": 50538.51607967257,
         "Laayoune-Sakia-El-Hamra": 124921.3287085328,
         "Marrakech-Safi": 132630.6030588588,
         "Oriental": 177570.87733385252,
         "Rabat-Salé-Kénitra": 119694.4851129961,
         "Souss-Massa": 101988.50004349455,
         "Tanger-Tétouan-Al Hoceima": 129995.5103146634,
         "_deepnote_index_column": "2017-01-01T00:00:00.000000"
        },
        {
         "Beni Mellal-Khénifra": 90485.16982832024,
         "Casablanca-Settat": 193832.72594336103,
         "Dakhla-Oued Ed-Dahab": 127542.97864825148,
         "Draa-Tafilalet": 129923.86206907623,
         "Fès-Meknès": 131115.03720503647,
         "Guelmim-Oued Noun": 59982.44802453726,
         "Laayoune-Sakia-El-Hamra": 173054.8269423955,
         "Marrakech-Safi": 140237.5001665614,
         "Oriental": 184412.7127012089,
         "Rabat-Salé-Kénitra": 116505.0148785321,
         "Souss-Massa": 110397.10549016311,
         "Tanger-Tétouan-Al Hoceima": 124427.07341716136,
         "_deepnote_index_column": "2017-02-01T00:00:00.000000"
        },
        {
         "Beni Mellal-Khénifra": 92682.25861521464,
         "Casablanca-Settat": 190313.91377928303,
         "Dakhla-Oued Ed-Dahab": 141753.2122742418,
         "Draa-Tafilalet": 129817.3300378223,
         "Fès-Meknès": 132565.39439114876,
         "Guelmim-Oued Noun": 60593.22414395482,
         "Laayoune-Sakia-El-Hamra": 171241.67344373814,
         "Marrakech-Safi": 142973.72880533172,
         "Oriental": 185441.8263156279,
         "Rabat-Salé-Kénitra": 128631.64955020531,
         "Souss-Massa": 113702.07896019866,
         "Tanger-Tétouan-Al Hoceima": 127924.71743586604,
         "_deepnote_index_column": "2017-03-01T00:00:00.000000"
        },
        {
         "Beni Mellal-Khénifra": 90053.67401399245,
         "Casablanca-Settat": 184191.51784154517,
         "Dakhla-Oued Ed-Dahab": 164026.59206742395,
         "Draa-Tafilalet": 124806.1557383875,
         "Fès-Meknès": 132785.14201862123,
         "Guelmim-Oued Noun": 63826.005235557954,
         "Laayoune-Sakia-El-Hamra": 200274.11664294903,
         "Marrakech-Safi": 144345.79125058345,
         "Oriental": 175804.97199970335,
         "Rabat-Salé-Kénitra": 123812.25222698576,
         "Souss-Massa": 114140.51471179353,
         "Tanger-Tétouan-Al Hoceima": 128287.1779467972,
         "_deepnote_index_column": "2017-04-01T00:00:00.000000"
        },
        {
         "Beni Mellal-Khénifra": 103095.59837560188,
         "Casablanca-Settat": 194053.618188809,
         "Dakhla-Oued Ed-Dahab": 180351.2272132729,
         "Draa-Tafilalet": 153328.24751693473,
         "Fès-Meknès": 149740.92988181257,
         "Guelmim-Oued Noun": 69779.46954928256,
         "Laayoune-Sakia-El-Hamra": 211128.46784001723,
         "Marrakech-Safi": 155556.81059865784,
         "Oriental": 191298.73679855347,
         "Rabat-Salé-Kénitra": 138678.1623743985,
         "Souss-Massa": 116139.27676401113,
         "Tanger-Tétouan-Al Hoceima": 137570.14279391814,
         "_deepnote_index_column": "2017-05-01T00:00:00.000000"
        }
       ]
      },
      "text/html": [
       "<div>\n",
       "<style scoped>\n",
       "    .dataframe tbody tr th:only-of-type {\n",
       "        vertical-align: middle;\n",
       "    }\n",
       "\n",
       "    .dataframe tbody tr th {\n",
       "        vertical-align: top;\n",
       "    }\n",
       "\n",
       "    .dataframe thead th {\n",
       "        text-align: right;\n",
       "    }\n",
       "</style>\n",
       "<table border=\"1\" class=\"dataframe\">\n",
       "  <thead>\n",
       "    <tr style=\"text-align: right;\">\n",
       "      <th></th>\n",
       "      <th>Oriental</th>\n",
       "      <th>Tanger-Tétouan-Al Hoceima</th>\n",
       "      <th>Fès-Meknès</th>\n",
       "      <th>Beni Mellal-Khénifra</th>\n",
       "      <th>Rabat-Salé-Kénitra</th>\n",
       "      <th>Casablanca-Settat</th>\n",
       "      <th>Marrakech-Safi</th>\n",
       "      <th>Draa-Tafilalet</th>\n",
       "      <th>Souss-Massa</th>\n",
       "      <th>Guelmim-Oued Noun</th>\n",
       "      <th>Laayoune-Sakia-El-Hamra</th>\n",
       "      <th>Dakhla-Oued Ed-Dahab</th>\n",
       "    </tr>\n",
       "    <tr>\n",
       "      <th>Date</th>\n",
       "      <th></th>\n",
       "      <th></th>\n",
       "      <th></th>\n",
       "      <th></th>\n",
       "      <th></th>\n",
       "      <th></th>\n",
       "      <th></th>\n",
       "      <th></th>\n",
       "      <th></th>\n",
       "      <th></th>\n",
       "      <th></th>\n",
       "      <th></th>\n",
       "    </tr>\n",
       "  </thead>\n",
       "  <tbody>\n",
       "    <tr>\n",
       "      <th>2014-01-01</th>\n",
       "      <td>131843.684245</td>\n",
       "      <td>93092.002708</td>\n",
       "      <td>94494.472339</td>\n",
       "      <td>63062.878162</td>\n",
       "      <td>97389.183820</td>\n",
       "      <td>137652.065411</td>\n",
       "      <td>101159.418219</td>\n",
       "      <td>70574.035416</td>\n",
       "      <td>73239.149877</td>\n",
       "      <td>26154.604527</td>\n",
       "      <td>71744.245857</td>\n",
       "      <td>32942.090562</td>\n",
       "    </tr>\n",
       "    <tr>\n",
       "      <th>2014-02-01</th>\n",
       "      <td>129066.644328</td>\n",
       "      <td>85558.971136</td>\n",
       "      <td>85411.066837</td>\n",
       "      <td>62965.905268</td>\n",
       "      <td>88985.070791</td>\n",
       "      <td>139918.478415</td>\n",
       "      <td>106477.616256</td>\n",
       "      <td>73125.796180</td>\n",
       "      <td>85314.498283</td>\n",
       "      <td>35724.736972</td>\n",
       "      <td>86537.865948</td>\n",
       "      <td>48540.585423</td>\n",
       "    </tr>\n",
       "    <tr>\n",
       "      <th>2014-03-01</th>\n",
       "      <td>125839.063910</td>\n",
       "      <td>90001.294267</td>\n",
       "      <td>94277.234440</td>\n",
       "      <td>68628.444425</td>\n",
       "      <td>95817.741643</td>\n",
       "      <td>146854.777105</td>\n",
       "      <td>113422.364932</td>\n",
       "      <td>87102.006865</td>\n",
       "      <td>92265.322253</td>\n",
       "      <td>48753.137350</td>\n",
       "      <td>159659.931900</td>\n",
       "      <td>119392.083914</td>\n",
       "    </tr>\n",
       "    <tr>\n",
       "      <th>2014-04-01</th>\n",
       "      <td>114641.407431</td>\n",
       "      <td>95796.142398</td>\n",
       "      <td>92468.821872</td>\n",
       "      <td>63216.047767</td>\n",
       "      <td>100797.581497</td>\n",
       "      <td>159795.382707</td>\n",
       "      <td>108056.071635</td>\n",
       "      <td>67452.563176</td>\n",
       "      <td>81395.676098</td>\n",
       "      <td>39820.960684</td>\n",
       "      <td>134870.148482</td>\n",
       "      <td>109252.289501</td>\n",
       "    </tr>\n",
       "    <tr>\n",
       "      <th>2014-05-01</th>\n",
       "      <td>125517.813221</td>\n",
       "      <td>103743.237469</td>\n",
       "      <td>96385.390351</td>\n",
       "      <td>63336.806493</td>\n",
       "      <td>102448.139354</td>\n",
       "      <td>144307.671018</td>\n",
       "      <td>98142.952788</td>\n",
       "      <td>51233.214201</td>\n",
       "      <td>58526.327792</td>\n",
       "      <td>22925.139473</td>\n",
       "      <td>74541.111365</td>\n",
       "      <td>44178.139672</td>\n",
       "    </tr>\n",
       "    <tr>\n",
       "      <th>...</th>\n",
       "      <td>...</td>\n",
       "      <td>...</td>\n",
       "      <td>...</td>\n",
       "      <td>...</td>\n",
       "      <td>...</td>\n",
       "      <td>...</td>\n",
       "      <td>...</td>\n",
       "      <td>...</td>\n",
       "      <td>...</td>\n",
       "      <td>...</td>\n",
       "      <td>...</td>\n",
       "      <td>...</td>\n",
       "    </tr>\n",
       "    <tr>\n",
       "      <th>2020-08-01</th>\n",
       "      <td>182982.674992</td>\n",
       "      <td>159545.892047</td>\n",
       "      <td>144114.066275</td>\n",
       "      <td>96417.578373</td>\n",
       "      <td>144933.657921</td>\n",
       "      <td>209516.482522</td>\n",
       "      <td>147459.564948</td>\n",
       "      <td>125832.830426</td>\n",
       "      <td>114311.901612</td>\n",
       "      <td>62033.772469</td>\n",
       "      <td>182427.896096</td>\n",
       "      <td>145599.580255</td>\n",
       "    </tr>\n",
       "    <tr>\n",
       "      <th>2020-09-01</th>\n",
       "      <td>192693.403151</td>\n",
       "      <td>141333.265296</td>\n",
       "      <td>144521.849355</td>\n",
       "      <td>99028.404725</td>\n",
       "      <td>136486.119620</td>\n",
       "      <td>220802.403877</td>\n",
       "      <td>154607.118698</td>\n",
       "      <td>144679.565911</td>\n",
       "      <td>138200.553976</td>\n",
       "      <td>81150.026141</td>\n",
       "      <td>261474.966889</td>\n",
       "      <td>207152.904109</td>\n",
       "    </tr>\n",
       "    <tr>\n",
       "      <th>2020-10-01</th>\n",
       "      <td>201118.837390</td>\n",
       "      <td>149759.585637</td>\n",
       "      <td>150276.394538</td>\n",
       "      <td>104313.292250</td>\n",
       "      <td>159719.427016</td>\n",
       "      <td>230141.663064</td>\n",
       "      <td>155396.329494</td>\n",
       "      <td>137628.628359</td>\n",
       "      <td>129131.499784</td>\n",
       "      <td>70231.886348</td>\n",
       "      <td>216067.795730</td>\n",
       "      <td>189088.816849</td>\n",
       "    </tr>\n",
       "    <tr>\n",
       "      <th>2020-11-01</th>\n",
       "      <td>234669.928200</td>\n",
       "      <td>157144.735590</td>\n",
       "      <td>167754.831608</td>\n",
       "      <td>113609.527020</td>\n",
       "      <td>166976.017233</td>\n",
       "      <td>237822.540884</td>\n",
       "      <td>173342.568565</td>\n",
       "      <td>180683.211590</td>\n",
       "      <td>158594.703654</td>\n",
       "      <td>96660.953949</td>\n",
       "      <td>295499.072240</td>\n",
       "      <td>242521.028459</td>\n",
       "    </tr>\n",
       "    <tr>\n",
       "      <th>2020-12-01</th>\n",
       "      <td>235208.519730</td>\n",
       "      <td>141878.598261</td>\n",
       "      <td>163949.861532</td>\n",
       "      <td>118485.092392</td>\n",
       "      <td>149984.126055</td>\n",
       "      <td>212080.417283</td>\n",
       "      <td>168090.190905</td>\n",
       "      <td>199489.895870</td>\n",
       "      <td>154871.727974</td>\n",
       "      <td>89366.522938</td>\n",
       "      <td>256522.026617</td>\n",
       "      <td>180940.780257</td>\n",
       "    </tr>\n",
       "  </tbody>\n",
       "</table>\n",
       "<p>84 rows × 12 columns</p>\n",
       "</div>"
      ],
      "text/plain": [
       "                 Oriental  Tanger-Tétouan-Al Hoceima     Fès-Meknès  \\\n",
       "Date                                                                  \n",
       "2014-01-01  131843.684245               93092.002708   94494.472339   \n",
       "2014-02-01  129066.644328               85558.971136   85411.066837   \n",
       "2014-03-01  125839.063910               90001.294267   94277.234440   \n",
       "2014-04-01  114641.407431               95796.142398   92468.821872   \n",
       "2014-05-01  125517.813221              103743.237469   96385.390351   \n",
       "...                   ...                        ...            ...   \n",
       "2020-08-01  182982.674992              159545.892047  144114.066275   \n",
       "2020-09-01  192693.403151              141333.265296  144521.849355   \n",
       "2020-10-01  201118.837390              149759.585637  150276.394538   \n",
       "2020-11-01  234669.928200              157144.735590  167754.831608   \n",
       "2020-12-01  235208.519730              141878.598261  163949.861532   \n",
       "\n",
       "            Beni Mellal-Khénifra  Rabat-Salé-Kénitra  Casablanca-Settat  \\\n",
       "Date                                                                      \n",
       "2014-01-01          63062.878162        97389.183820      137652.065411   \n",
       "2014-02-01          62965.905268        88985.070791      139918.478415   \n",
       "2014-03-01          68628.444425        95817.741643      146854.777105   \n",
       "2014-04-01          63216.047767       100797.581497      159795.382707   \n",
       "2014-05-01          63336.806493       102448.139354      144307.671018   \n",
       "...                          ...                 ...                ...   \n",
       "2020-08-01          96417.578373       144933.657921      209516.482522   \n",
       "2020-09-01          99028.404725       136486.119620      220802.403877   \n",
       "2020-10-01         104313.292250       159719.427016      230141.663064   \n",
       "2020-11-01         113609.527020       166976.017233      237822.540884   \n",
       "2020-12-01         118485.092392       149984.126055      212080.417283   \n",
       "\n",
       "            Marrakech-Safi  Draa-Tafilalet    Souss-Massa  Guelmim-Oued Noun  \\\n",
       "Date                                                                           \n",
       "2014-01-01   101159.418219    70574.035416   73239.149877       26154.604527   \n",
       "2014-02-01   106477.616256    73125.796180   85314.498283       35724.736972   \n",
       "2014-03-01   113422.364932    87102.006865   92265.322253       48753.137350   \n",
       "2014-04-01   108056.071635    67452.563176   81395.676098       39820.960684   \n",
       "2014-05-01    98142.952788    51233.214201   58526.327792       22925.139473   \n",
       "...                    ...             ...            ...                ...   \n",
       "2020-08-01   147459.564948   125832.830426  114311.901612       62033.772469   \n",
       "2020-09-01   154607.118698   144679.565911  138200.553976       81150.026141   \n",
       "2020-10-01   155396.329494   137628.628359  129131.499784       70231.886348   \n",
       "2020-11-01   173342.568565   180683.211590  158594.703654       96660.953949   \n",
       "2020-12-01   168090.190905   199489.895870  154871.727974       89366.522938   \n",
       "\n",
       "            Laayoune-Sakia-El-Hamra  Dakhla-Oued Ed-Dahab  \n",
       "Date                                                       \n",
       "2014-01-01             71744.245857          32942.090562  \n",
       "2014-02-01             86537.865948          48540.585423  \n",
       "2014-03-01            159659.931900         119392.083914  \n",
       "2014-04-01            134870.148482         109252.289501  \n",
       "2014-05-01             74541.111365          44178.139672  \n",
       "...                             ...                   ...  \n",
       "2020-08-01            182427.896096         145599.580255  \n",
       "2020-09-01            261474.966889         207152.904109  \n",
       "2020-10-01            216067.795730         189088.816849  \n",
       "2020-11-01            295499.072240         242521.028459  \n",
       "2020-12-01            256522.026617         180940.780257  \n",
       "\n",
       "[84 rows x 12 columns]"
      ]
     },
     "execution_count": 11,
     "metadata": {},
     "output_type": "execute_result"
    }
   ],
   "source": [
    "Data = pd.read_csv(\"/work/Data_VIIRS_NEW_REGIONS.csv\")\n",
    "Data.drop(Data.columns[0], axis=1, inplace=True)\n",
    "Date = pd.date_range('2014-01-01', periods=84, freq='MS')\n",
    "Data.insert(0, \"Date\", Date, True)\n",
    "Data = Data.set_index('Date')\n",
    "del Data['date']\n",
    "Data"
   ]
  },
  {
   "cell_type": "code",
   "execution_count": 12,
   "metadata": {
    "cell_id": "00003-e720e1fb-5d5e-4f12-8e96-38a09f87e599",
    "deepnote_cell_type": "code",
    "deepnote_to_be_reexecuted": false,
    "execution_millis": 14,
    "execution_start": 1618698919900,
    "source_hash": "a9d1aa12",
    "tags": []
   },
   "outputs": [],
   "source": [
    "#Remove outliers columny by column\n",
    "#Example\n",
    "for x in ['Laayoune-Sakia-El-Hamra']:\n",
    "    q75,q25 = np.percentile(Data.loc[:,x],[75,25])\n",
    "    intr_qr = q75-q25\n",
    " \n",
    "    max = q75+(1.5*intr_qr)\n",
    "    min = q25-(1.5*intr_qr)\n",
    " \n",
    "    Data.loc[Data[x] < min,x] = np.nan\n",
    "    Data.loc[Data[x] > max,x] = np.nan"
   ]
  },
  {
   "cell_type": "markdown",
   "metadata": {
    "deepnote_cell_type": "text-cell-p",
    "tags": []
   },
   "source": [
    "Having replaced the outliers with nan, let us now check the sum of null values or missing values using the below code:"
   ]
  },
  {
   "cell_type": "code",
   "execution_count": 14,
   "metadata": {
    "cell_id": "00004-2febb54e-1855-4dd9-bd76-84d1f2403217",
    "deepnote_cell_type": "code",
    "deepnote_to_be_reexecuted": false,
    "execution_millis": 6,
    "execution_start": 1618699159402,
    "source_hash": "ce89654e",
    "tags": []
   },
   "outputs": [
    {
     "data": {
      "text/plain": [
       "Oriental                     0\n",
       "Tanger-Tétouan-Al Hoceima    0\n",
       "Fès-Meknès                   0\n",
       "Beni Mellal-Khénifra         0\n",
       "Rabat-Salé-Kénitra           0\n",
       "Casablanca-Settat            0\n",
       "Marrakech-Safi               0\n",
       "Draa-Tafilalet               0\n",
       "Souss-Massa                  0\n",
       "Guelmim-Oued Noun            0\n",
       "Laayoune-Sakia-El-Hamra      0\n",
       "Dakhla-Oued Ed-Dahab         0\n",
       "dtype: int64"
      ]
     },
     "execution_count": 14,
     "metadata": {},
     "output_type": "execute_result"
    }
   ],
   "source": [
    "Data.isnull().sum()\n"
   ]
  },
  {
   "cell_type": "markdown",
   "metadata": {
    "cell_id": "00006-dc9b2a88-66d2-4c4d-ad3e-04dc3e5b521d",
    "deepnote_cell_type": "text-cell-h1",
    "tags": []
   },
   "source": [
    "# Imputation of the missing values with Mean, median or KNN : "
   ]
  },
  {
   "cell_type": "markdown",
   "metadata": {
    "cell_id": "00007-dd4d4bca-971a-4a99-95c1-22fa62944a8a",
    "deepnote_cell_type": "text-cell-p",
    "tags": []
   },
   "source": [
    "https://www.askpython.com/python/examples/impute-missing-data-values"
   ]
  }
 ],
 "metadata": {
  "deepnote": {
   "is_reactive": false
  },
  "deepnote_execution_queue": [],
  "deepnote_notebook_id": "bd246dd1-f45b-4328-86c4-b1d3b22cab82",
  "kernelspec": {
   "display_name": "Python 3",
   "language": "python",
   "name": "python3"
  },
  "language_info": {
   "codemirror_mode": {
    "name": "ipython",
    "version": 3
   },
   "file_extension": ".py",
   "mimetype": "text/x-python",
   "name": "python",
   "nbconvert_exporter": "python",
   "pygments_lexer": "ipython3",
   "version": "3.8.5"
  }
 },
 "nbformat": 4,
 "nbformat_minor": 2
}
