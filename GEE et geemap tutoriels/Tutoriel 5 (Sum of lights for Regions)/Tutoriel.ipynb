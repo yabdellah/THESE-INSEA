{
 "cells": [
  {
   "cell_type": "markdown",
   "metadata": {},
   "source": [
    "# Importation des packages"
   ]
  },
  {
   "cell_type": "code",
   "execution_count": 1,
   "metadata": {
    "id": "b4J-xS3Fh-P1"
   },
   "outputs": [],
   "source": [
    "#**geemap**  : package pour la cartographie interactive avec Google Earth Engine (GEE).\n",
    "try:\n",
    "    import geemap, ee\n",
    "except ModuleNotFoundError:\n",
    "    if 'google.colab' in str(get_ipython()):\n",
    "        print(\"package not found, installing w/ pip in Google Colab...\")\n",
    "        !pip install geemap\n",
    "    else:\n",
    "        print(\"package not found, installing w/ conda...\")\n",
    "        !conda install mamba -c conda-forge -y\n",
    "        !mamba install geemap -c conda-forge -y\n",
    "    import geemap, ee"
   ]
  },
  {
   "cell_type": "code",
   "execution_count": null,
   "metadata": {
    "colab": {
     "base_uri": "https://localhost:8080/"
    },
    "id": "lSk5qnGph_2c",
    "outputId": "a39b3190-1430-4843-ae27-de49dabd8c1e",
    "scrolled": true
   },
   "outputs": [],
   "source": [
    "!pip install geopandas"
   ]
  },
  {
   "cell_type": "markdown",
   "metadata": {},
   "source": [
    "# Authentification"
   ]
  },
  {
   "cell_type": "code",
   "execution_count": 2,
   "metadata": {
    "colab": {
     "base_uri": "https://localhost:8080/"
    },
    "id": "m6CF1XJhiDs6",
    "outputId": "fa3192f7-2080-4a6f-bc53-5f1df25b6c54"
   },
   "outputs": [],
   "source": [
    "try:\n",
    "        ee.Initialize()\n",
    "except Exception as e:\n",
    "        ee.Authenticate()\n",
    "        ee.Initialize()"
   ]
  },
  {
   "cell_type": "code",
   "execution_count": 5,
   "metadata": {
    "id": "Ruuc-Ag5iFx4"
   },
   "outputs": [],
   "source": [
    "# **GeoPandas**  facilite le travail avec des données géospatiales en python. et  permet des opérations spatiales sur les types géométriques.\n",
    "import geopandas as gpd   \n",
    "import pandas as pd\n",
    "from geopandas import GeoDataFrame\n",
    "from shapely.geometry import Point,Polygon\n",
    "import numpy as np\n",
    "from functools import reduce\n",
    "import shapefile\n",
    "import geopandas as gpd"
   ]
  },
  {
   "cell_type": "markdown",
   "metadata": {},
   "source": [
    "# Fonction pour lire les shapefiles"
   ]
  },
  {
   "cell_type": "code",
   "execution_count": 6,
   "metadata": {
    "id": "0BIH65ogiGlM"
   },
   "outputs": [],
   "source": [
    "#shapefile to FeatureCollection\n",
    "def upload_shapefile_to_gee1(shp_file):\n",
    "    \"\"\"\n",
    "    Upload a shapefile to Google Earth Engine as an asset.\n",
    "\n",
    "    Args:\n",
    "        user (django.contrib.auth.User): the request user.\n",
    "        shp_file (shapefile.Reader): A shapefile reader object.\n",
    "    \"\"\"\n",
    "    features = []\n",
    "    fields = shp_file.fields[1:]\n",
    "    field_names = [field[0] for field in fields]\n",
    "\n",
    "    # Convert Shapefile to ee.Features\n",
    "    for record in shp_file.shapeRecords():\n",
    "        # First convert to geojson\n",
    "        attributes = dict(zip(field_names, record.record))\n",
    "        geojson_geom = record.shape.__geo_interface__\n",
    "        geojson_feature = {\n",
    "            'type': 'Feature',\n",
    "            'geometry': geojson_geom,\n",
    "            'properties': attributes\n",
    "        }\n",
    "\n",
    "        # Create ee.Feature from geojson (this is the Upload, b/c ee.Feature is a server object)\n",
    "        features.append(ee.Feature(geojson_feature))\n",
    "\n",
    "    feature_collection = ee.FeatureCollection(features)\n",
    "    return feature_collection"
   ]
  },
  {
   "cell_type": "code",
   "execution_count": 7,
   "metadata": {
    "id": "8e2aeLJni3j8"
   },
   "outputs": [],
   "source": [
    "#print a shape file (geojson)\n",
    "def upload_shapefile_to_gee(shp_file):\n",
    "    \"\"\"\n",
    "    Upload a shapefile to Google Earth Engine as an asset.\n",
    "\n",
    "    Args:\n",
    "        user (django.contrib.auth.User): the request user.\n",
    "        shp_file (shapefile.Reader): A shapefile reader object.\n",
    "    \"\"\"\n",
    "    features = []\n",
    "    fields = shp_file.fields[1:]\n",
    "    field_names = [field[0] for field in fields]\n",
    "\n",
    "    # Convert Shapefile to ee.Features\n",
    "    for record in shp_file.shapeRecords():\n",
    "        # First convert to geojson\n",
    "        attributes = dict(zip(field_names, record.record))\n",
    "        geojson_geom = record.shape.__geo_interface__\n",
    "        geojson_feature = {\n",
    "            'type': 'Feature',\n",
    "            'geometry': geojson_geom,\n",
    "            'properties': attributes\n",
    "        }\n",
    "\n",
    "        print(geojson_feature)"
   ]
  },
  {
   "cell_type": "code",
   "execution_count": null,
   "metadata": {
    "colab": {
     "base_uri": "https://localhost:8080/"
    },
    "id": "gSk3bl6_iRen",
    "outputId": "2f23f644-78e6-4d51-cdd0-5641bbd93edd"
   },
   "outputs": [],
   "source": [
    "sf = shapefile.Reader(\"regions_updated.shp\")\n",
    "shapeRecs = sf.shapeRecords()\n",
    "shapeRecs.__geo_interface__['type']\n",
    "upload_shapefile_to_gee(sf)\n",
    "shapes = sf.shapes()\n",
    "shapes"
   ]
  },
  {
   "cell_type": "code",
   "execution_count": null,
   "metadata": {
    "colab": {
     "base_uri": "https://localhost:8080/"
    },
    "id": "g3dITfJaibnZ",
    "outputId": "dc25c9c5-5b5b-4886-d10b-1e9a4d8074c7"
   },
   "outputs": [],
   "source": [
    "shapefile = gpd.read_file(\"regions_updated.shp\")\n",
    "print(shapefile)\n",
    "shapefile.head(12)\n",
    "print(shapeRecs.__geo_interface__)"
   ]
  },
  {
   "cell_type": "markdown",
   "metadata": {},
   "source": [
    "# Shapefile Visualization"
   ]
  },
  {
   "cell_type": "code",
   "execution_count": 11,
   "metadata": {},
   "outputs": [],
   "source": [
    "ee_object = geemap.shp_to_ee(\"regions_updated.shp\")\n"
   ]
  },
  {
   "cell_type": "code",
   "execution_count": 13,
   "metadata": {},
   "outputs": [
    {
     "data": {
      "application/vnd.jupyter.widget-view+json": {
       "model_id": "10c4d1de7a0f43f09ab459222ef37633",
       "version_major": 2,
       "version_minor": 0
      },
      "text/plain": [
       "Map(center=[40, -100], controls=(WidgetControl(options=['position', 'transparent_bg'], widget=HBox(children=(T…"
      ]
     },
     "metadata": {},
     "output_type": "display_data"
    }
   ],
   "source": [
    "#Exemple\n",
    "viirs2020_12 = ee.ImageCollection(\"NOAA/VIIRS/DNB/MONTHLY_V1/VCMSLCFG\").filterDate(\"2020-12-01\",\"2020-12-31\").select('avg_rad').median()\n",
    "# initialize our map\n",
    "map1 = geemap.Map()\n",
    "map1.add_basemap('SATELLITE')\n",
    "map1.addLayer(viirs2020_12, {}, \"VIIRS-DNB Dec 2020\")\n",
    "map1.addLayer(ee_object, {}, 'Morocco subregions')\n",
    "map1.addLayerControl()\n",
    "map1"
   ]
  },
  {
   "cell_type": "markdown",
   "metadata": {},
   "source": [
    "# Extraction de SOL"
   ]
  },
  {
   "cell_type": "code",
   "execution_count": 10,
   "metadata": {
    "id": "k2VokGdNjFOH"
   },
   "outputs": [],
   "source": [
    "# revise our reducer function to be to get SOL for morocco\n",
    "def get_morocco_sol(img):\n",
    "    sol = img.reduceRegion(reducer=ee.Reducer.sum(), geometry=morocco00, scale=500, maxPixels=1e12).get('avg_rad')\n",
    "    return img.set('date', img.date().format()).set('SOL',sol)"
   ]
  },
  {
   "cell_type": "code",
   "execution_count": 11,
   "metadata": {
    "id": "629P7JFnjH15"
   },
   "outputs": [],
   "source": [
    "def Sol(s,Date1,Date2):\n",
    "    global morocco00\n",
    "    \n",
    "    viirs = ee.ImageCollection(\"NOAA/VIIRS/DNB/MONTHLY_V1/VCMSLCFG\").filterDate(Date1,Date2)\n",
    "    morocco00 = ee.FeatureCollection(upload_shapefile_to_gee1(sf)).filter(ee.Filter.eq('name', s)).first().geometry()\n",
    "    get_morocco_sol\n",
    "    morocco00_sol = viirs.map(get_morocco_sol)\n",
    "\n",
    "    # get lists\n",
    "    nested_list = morocco00_sol.reduceColumns(ee.Reducer.toList(2), ['date','SOL']).values().get(0)\n",
    "\n",
    "    # convert to dataframe\n",
    "    soldf = pd.DataFrame(nested_list.getInfo(), columns=['date','SOL'])\n",
    "    soldf = soldf.rename(columns={'SOL': s})\n",
    "    return soldf"
   ]
  },
  {
   "cell_type": "code",
   "execution_count": 17,
   "metadata": {
    "id": "sfNTtGubjKOM"
   },
   "outputs": [],
   "source": [
    "Date1='2014-01-01'\n",
    "Date2='2021-03-01'"
   ]
  },
  {
   "cell_type": "code",
   "execution_count": 13,
   "metadata": {
    "id": "aJ68Bl8ejP3J"
   },
   "outputs": [],
   "source": [
    "Regions = ['Tanger-Tétouan-Al Hoceima', 'Fès-Meknès', 'Beni Mellal-Khénifra', 'Rabat-Salé-Kénitra', 'Casablanca-Settat', 'Marrakech-Safi', 'Draa-Tafilalet', 'Souss-Massa', 'Guelmim-Oued Noun', 'Laayoune-Sakia-El-Hamra', 'Dakhla-Oued Ed-Dahab']"
   ]
  },
  {
   "cell_type": "code",
   "execution_count": 14,
   "metadata": {
    "colab": {
     "base_uri": "https://localhost:8080/"
    },
    "id": "cvHT322IjRMS",
    "outputId": "76f1a538-26c2-4d43-fb67-cc2bc5429c33"
   },
   "outputs": [
    {
     "data": {
      "text/plain": [
       "11"
      ]
     },
     "execution_count": 14,
     "metadata": {
      "tags": []
     },
     "output_type": "execute_result"
    }
   ],
   "source": [
    "len(Regions)"
   ]
  },
  {
   "cell_type": "code",
   "execution_count": 18,
   "metadata": {
    "colab": {
     "base_uri": "https://localhost:8080/",
     "height": 419
    },
    "id": "29a74up8jL-A",
    "outputId": "c68f6f3f-68ba-43ec-adbe-7d81045784dd"
   },
   "outputs": [
    {
     "data": {
      "text/html": [
       "<div>\n",
       "<style scoped>\n",
       "    .dataframe tbody tr th:only-of-type {\n",
       "        vertical-align: middle;\n",
       "    }\n",
       "\n",
       "    .dataframe tbody tr th {\n",
       "        vertical-align: top;\n",
       "    }\n",
       "\n",
       "    .dataframe thead th {\n",
       "        text-align: right;\n",
       "    }\n",
       "</style>\n",
       "<table border=\"1\" class=\"dataframe\">\n",
       "  <thead>\n",
       "    <tr style=\"text-align: right;\">\n",
       "      <th></th>\n",
       "      <th>date</th>\n",
       "      <th>Oriental</th>\n",
       "    </tr>\n",
       "  </thead>\n",
       "  <tbody>\n",
       "    <tr>\n",
       "      <th>0</th>\n",
       "      <td>2014-01-01T00:00:00</td>\n",
       "      <td>131843.684245</td>\n",
       "    </tr>\n",
       "    <tr>\n",
       "      <th>1</th>\n",
       "      <td>2014-02-01T00:00:00</td>\n",
       "      <td>129066.644328</td>\n",
       "    </tr>\n",
       "    <tr>\n",
       "      <th>2</th>\n",
       "      <td>2014-03-01T00:00:00</td>\n",
       "      <td>125839.063910</td>\n",
       "    </tr>\n",
       "    <tr>\n",
       "      <th>3</th>\n",
       "      <td>2014-04-01T00:00:00</td>\n",
       "      <td>114641.407431</td>\n",
       "    </tr>\n",
       "    <tr>\n",
       "      <th>4</th>\n",
       "      <td>2014-05-01T00:00:00</td>\n",
       "      <td>125517.813221</td>\n",
       "    </tr>\n",
       "    <tr>\n",
       "      <th>...</th>\n",
       "      <td>...</td>\n",
       "      <td>...</td>\n",
       "    </tr>\n",
       "    <tr>\n",
       "      <th>79</th>\n",
       "      <td>2020-08-01T00:00:00</td>\n",
       "      <td>182982.674992</td>\n",
       "    </tr>\n",
       "    <tr>\n",
       "      <th>80</th>\n",
       "      <td>2020-09-01T00:00:00</td>\n",
       "      <td>192693.403151</td>\n",
       "    </tr>\n",
       "    <tr>\n",
       "      <th>81</th>\n",
       "      <td>2020-10-01T00:00:00</td>\n",
       "      <td>201118.837390</td>\n",
       "    </tr>\n",
       "    <tr>\n",
       "      <th>82</th>\n",
       "      <td>2020-11-01T00:00:00</td>\n",
       "      <td>234669.928200</td>\n",
       "    </tr>\n",
       "    <tr>\n",
       "      <th>83</th>\n",
       "      <td>2020-12-01T00:00:00</td>\n",
       "      <td>235208.519730</td>\n",
       "    </tr>\n",
       "  </tbody>\n",
       "</table>\n",
       "<p>84 rows × 2 columns</p>\n",
       "</div>"
      ],
      "text/plain": [
       "                   date       Oriental\n",
       "0   2014-01-01T00:00:00  131843.684245\n",
       "1   2014-02-01T00:00:00  129066.644328\n",
       "2   2014-03-01T00:00:00  125839.063910\n",
       "3   2014-04-01T00:00:00  114641.407431\n",
       "4   2014-05-01T00:00:00  125517.813221\n",
       "..                  ...            ...\n",
       "79  2020-08-01T00:00:00  182982.674992\n",
       "80  2020-09-01T00:00:00  192693.403151\n",
       "81  2020-10-01T00:00:00  201118.837390\n",
       "82  2020-11-01T00:00:00  234669.928200\n",
       "83  2020-12-01T00:00:00  235208.519730\n",
       "\n",
       "[84 rows x 2 columns]"
      ]
     },
     "execution_count": 18,
     "metadata": {
      "tags": []
     },
     "output_type": "execute_result"
    }
   ],
   "source": [
    "D1=Sol('Oriental', Date1, Date2)\n",
    "D1"
   ]
  },
  {
   "cell_type": "code",
   "execution_count": 19,
   "metadata": {
    "id": "G-tfBnz-jUPE"
   },
   "outputs": [],
   "source": [
    "def qwe(regions):\n",
    "    D1=Sol('Oriental',Date1,Date2)\n",
    "    D=D1\n",
    "    for i in regions :\n",
    "        D=D.join(Sol(i,Date1,Date2)[i], on=None, how='left', lsuffix='', rsuffix='', sort=False)\n",
    "    return D"
   ]
  },
  {
   "cell_type": "code",
   "execution_count": 20,
   "metadata": {
    "colab": {
     "base_uri": "https://localhost:8080/",
     "height": 643
    },
    "id": "3pdbRa1gjW-8",
    "outputId": "1fe16296-d182-4c57-b545-69acbd7fe6ba"
   },
   "outputs": [
    {
     "data": {
      "text/html": [
       "<div>\n",
       "<style scoped>\n",
       "    .dataframe tbody tr th:only-of-type {\n",
       "        vertical-align: middle;\n",
       "    }\n",
       "\n",
       "    .dataframe tbody tr th {\n",
       "        vertical-align: top;\n",
       "    }\n",
       "\n",
       "    .dataframe thead th {\n",
       "        text-align: right;\n",
       "    }\n",
       "</style>\n",
       "<table border=\"1\" class=\"dataframe\">\n",
       "  <thead>\n",
       "    <tr style=\"text-align: right;\">\n",
       "      <th></th>\n",
       "      <th>date</th>\n",
       "      <th>Oriental</th>\n",
       "      <th>Tanger-Tétouan-Al Hoceima</th>\n",
       "      <th>Fès-Meknès</th>\n",
       "      <th>Beni Mellal-Khénifra</th>\n",
       "      <th>Rabat-Salé-Kénitra</th>\n",
       "      <th>Casablanca-Settat</th>\n",
       "      <th>Marrakech-Safi</th>\n",
       "      <th>Draa-Tafilalet</th>\n",
       "      <th>Souss-Massa</th>\n",
       "      <th>Guelmim-Oued Noun</th>\n",
       "      <th>Laayoune-Sakia-El-Hamra</th>\n",
       "      <th>Dakhla-Oued Ed-Dahab</th>\n",
       "    </tr>\n",
       "  </thead>\n",
       "  <tbody>\n",
       "    <tr>\n",
       "      <th>0</th>\n",
       "      <td>2014-01-01T00:00:00</td>\n",
       "      <td>131843.684245</td>\n",
       "      <td>93092.002708</td>\n",
       "      <td>94494.472339</td>\n",
       "      <td>63062.878162</td>\n",
       "      <td>97389.183820</td>\n",
       "      <td>137652.065411</td>\n",
       "      <td>101159.418219</td>\n",
       "      <td>70574.035416</td>\n",
       "      <td>73239.149877</td>\n",
       "      <td>26154.604527</td>\n",
       "      <td>71744.245857</td>\n",
       "      <td>32942.090562</td>\n",
       "    </tr>\n",
       "    <tr>\n",
       "      <th>1</th>\n",
       "      <td>2014-02-01T00:00:00</td>\n",
       "      <td>129066.644328</td>\n",
       "      <td>85558.971136</td>\n",
       "      <td>85411.066837</td>\n",
       "      <td>62965.905268</td>\n",
       "      <td>88985.070791</td>\n",
       "      <td>139918.478415</td>\n",
       "      <td>106477.616256</td>\n",
       "      <td>73125.796180</td>\n",
       "      <td>85314.498283</td>\n",
       "      <td>35724.736972</td>\n",
       "      <td>86537.865948</td>\n",
       "      <td>48540.585423</td>\n",
       "    </tr>\n",
       "    <tr>\n",
       "      <th>2</th>\n",
       "      <td>2014-03-01T00:00:00</td>\n",
       "      <td>125839.063910</td>\n",
       "      <td>90001.294267</td>\n",
       "      <td>94277.234440</td>\n",
       "      <td>68628.444425</td>\n",
       "      <td>95817.741643</td>\n",
       "      <td>146854.777105</td>\n",
       "      <td>113422.364932</td>\n",
       "      <td>87102.006865</td>\n",
       "      <td>92265.322253</td>\n",
       "      <td>48753.137350</td>\n",
       "      <td>159659.931900</td>\n",
       "      <td>119392.083914</td>\n",
       "    </tr>\n",
       "    <tr>\n",
       "      <th>3</th>\n",
       "      <td>2014-04-01T00:00:00</td>\n",
       "      <td>114641.407431</td>\n",
       "      <td>95796.142398</td>\n",
       "      <td>92468.821872</td>\n",
       "      <td>63216.047767</td>\n",
       "      <td>100797.581497</td>\n",
       "      <td>159795.382707</td>\n",
       "      <td>108056.071635</td>\n",
       "      <td>67452.563176</td>\n",
       "      <td>81395.676098</td>\n",
       "      <td>39820.960684</td>\n",
       "      <td>134870.148482</td>\n",
       "      <td>109252.289501</td>\n",
       "    </tr>\n",
       "    <tr>\n",
       "      <th>4</th>\n",
       "      <td>2014-05-01T00:00:00</td>\n",
       "      <td>125517.813221</td>\n",
       "      <td>103743.237469</td>\n",
       "      <td>96385.390351</td>\n",
       "      <td>63336.806493</td>\n",
       "      <td>102448.139354</td>\n",
       "      <td>144307.671018</td>\n",
       "      <td>98142.952788</td>\n",
       "      <td>51233.214201</td>\n",
       "      <td>58526.327792</td>\n",
       "      <td>22925.139473</td>\n",
       "      <td>74541.111365</td>\n",
       "      <td>44178.139672</td>\n",
       "    </tr>\n",
       "    <tr>\n",
       "      <th>...</th>\n",
       "      <td>...</td>\n",
       "      <td>...</td>\n",
       "      <td>...</td>\n",
       "      <td>...</td>\n",
       "      <td>...</td>\n",
       "      <td>...</td>\n",
       "      <td>...</td>\n",
       "      <td>...</td>\n",
       "      <td>...</td>\n",
       "      <td>...</td>\n",
       "      <td>...</td>\n",
       "      <td>...</td>\n",
       "      <td>...</td>\n",
       "    </tr>\n",
       "    <tr>\n",
       "      <th>79</th>\n",
       "      <td>2020-08-01T00:00:00</td>\n",
       "      <td>182982.674992</td>\n",
       "      <td>159545.892047</td>\n",
       "      <td>144114.066275</td>\n",
       "      <td>96417.578373</td>\n",
       "      <td>144933.657921</td>\n",
       "      <td>209516.482522</td>\n",
       "      <td>147459.564948</td>\n",
       "      <td>125832.830426</td>\n",
       "      <td>114311.901612</td>\n",
       "      <td>62033.772469</td>\n",
       "      <td>182427.896096</td>\n",
       "      <td>145599.580255</td>\n",
       "    </tr>\n",
       "    <tr>\n",
       "      <th>80</th>\n",
       "      <td>2020-09-01T00:00:00</td>\n",
       "      <td>192693.403151</td>\n",
       "      <td>141333.265296</td>\n",
       "      <td>144521.849355</td>\n",
       "      <td>99028.404725</td>\n",
       "      <td>136486.119620</td>\n",
       "      <td>220802.403877</td>\n",
       "      <td>154607.118698</td>\n",
       "      <td>144679.565911</td>\n",
       "      <td>138200.553976</td>\n",
       "      <td>81150.026141</td>\n",
       "      <td>261474.966889</td>\n",
       "      <td>207152.904109</td>\n",
       "    </tr>\n",
       "    <tr>\n",
       "      <th>81</th>\n",
       "      <td>2020-10-01T00:00:00</td>\n",
       "      <td>201118.837390</td>\n",
       "      <td>149759.585637</td>\n",
       "      <td>150276.394538</td>\n",
       "      <td>104313.292250</td>\n",
       "      <td>159719.427016</td>\n",
       "      <td>230141.663064</td>\n",
       "      <td>155396.329494</td>\n",
       "      <td>137628.628359</td>\n",
       "      <td>129131.499784</td>\n",
       "      <td>70231.886348</td>\n",
       "      <td>216067.795730</td>\n",
       "      <td>189088.816849</td>\n",
       "    </tr>\n",
       "    <tr>\n",
       "      <th>82</th>\n",
       "      <td>2020-11-01T00:00:00</td>\n",
       "      <td>234669.928200</td>\n",
       "      <td>157144.735590</td>\n",
       "      <td>167754.831608</td>\n",
       "      <td>113609.527020</td>\n",
       "      <td>166976.017233</td>\n",
       "      <td>237822.540884</td>\n",
       "      <td>173342.568565</td>\n",
       "      <td>180683.211590</td>\n",
       "      <td>158594.703654</td>\n",
       "      <td>96660.953949</td>\n",
       "      <td>295499.072240</td>\n",
       "      <td>242521.028459</td>\n",
       "    </tr>\n",
       "    <tr>\n",
       "      <th>83</th>\n",
       "      <td>2020-12-01T00:00:00</td>\n",
       "      <td>235208.519730</td>\n",
       "      <td>141878.598261</td>\n",
       "      <td>163949.861532</td>\n",
       "      <td>118485.092392</td>\n",
       "      <td>149984.126055</td>\n",
       "      <td>212080.417283</td>\n",
       "      <td>168090.190905</td>\n",
       "      <td>199489.895870</td>\n",
       "      <td>154871.727974</td>\n",
       "      <td>89366.522938</td>\n",
       "      <td>256522.026617</td>\n",
       "      <td>180940.780257</td>\n",
       "    </tr>\n",
       "  </tbody>\n",
       "</table>\n",
       "<p>84 rows × 13 columns</p>\n",
       "</div>"
      ],
      "text/plain": [
       "                   date  ...  Dakhla-Oued Ed-Dahab\n",
       "0   2014-01-01T00:00:00  ...          32942.090562\n",
       "1   2014-02-01T00:00:00  ...          48540.585423\n",
       "2   2014-03-01T00:00:00  ...         119392.083914\n",
       "3   2014-04-01T00:00:00  ...         109252.289501\n",
       "4   2014-05-01T00:00:00  ...          44178.139672\n",
       "..                  ...  ...                   ...\n",
       "79  2020-08-01T00:00:00  ...         145599.580255\n",
       "80  2020-09-01T00:00:00  ...         207152.904109\n",
       "81  2020-10-01T00:00:00  ...         189088.816849\n",
       "82  2020-11-01T00:00:00  ...         242521.028459\n",
       "83  2020-12-01T00:00:00  ...         180940.780257\n",
       "\n",
       "[84 rows x 13 columns]"
      ]
     },
     "execution_count": 20,
     "metadata": {
      "tags": []
     },
     "output_type": "execute_result"
    }
   ],
   "source": [
    "Data=qwe(Regions)\n",
    "Data"
   ]
  },
  {
   "cell_type": "code",
   "execution_count": 21,
   "metadata": {
    "id": "lNxSluK5jgX8"
   },
   "outputs": [],
   "source": [
    "Data['date'] = pd.to_datetime(Data['date'])"
   ]
  },
  {
   "cell_type": "code",
   "execution_count": 22,
   "metadata": {
    "colab": {
     "base_uri": "https://localhost:8080/",
     "height": 643
    },
    "id": "-Qe8n1oBjmPU",
    "outputId": "c7ee2383-33e7-4602-a048-6a44eeeb93a3"
   },
   "outputs": [
    {
     "data": {
      "text/html": [
       "<div>\n",
       "<style scoped>\n",
       "    .dataframe tbody tr th:only-of-type {\n",
       "        vertical-align: middle;\n",
       "    }\n",
       "\n",
       "    .dataframe tbody tr th {\n",
       "        vertical-align: top;\n",
       "    }\n",
       "\n",
       "    .dataframe thead th {\n",
       "        text-align: right;\n",
       "    }\n",
       "</style>\n",
       "<table border=\"1\" class=\"dataframe\">\n",
       "  <thead>\n",
       "    <tr style=\"text-align: right;\">\n",
       "      <th></th>\n",
       "      <th>date</th>\n",
       "      <th>Oriental</th>\n",
       "      <th>Tanger-Tétouan-Al Hoceima</th>\n",
       "      <th>Fès-Meknès</th>\n",
       "      <th>Beni Mellal-Khénifra</th>\n",
       "      <th>Rabat-Salé-Kénitra</th>\n",
       "      <th>Casablanca-Settat</th>\n",
       "      <th>Marrakech-Safi</th>\n",
       "      <th>Draa-Tafilalet</th>\n",
       "      <th>Souss-Massa</th>\n",
       "      <th>Guelmim-Oued Noun</th>\n",
       "      <th>Laayoune-Sakia-El-Hamra</th>\n",
       "      <th>Dakhla-Oued Ed-Dahab</th>\n",
       "    </tr>\n",
       "  </thead>\n",
       "  <tbody>\n",
       "    <tr>\n",
       "      <th>0</th>\n",
       "      <td>2014-01-01</td>\n",
       "      <td>131843.684245</td>\n",
       "      <td>93092.002708</td>\n",
       "      <td>94494.472339</td>\n",
       "      <td>63062.878162</td>\n",
       "      <td>97389.183820</td>\n",
       "      <td>137652.065411</td>\n",
       "      <td>101159.418219</td>\n",
       "      <td>70574.035416</td>\n",
       "      <td>73239.149877</td>\n",
       "      <td>26154.604527</td>\n",
       "      <td>71744.245857</td>\n",
       "      <td>32942.090562</td>\n",
       "    </tr>\n",
       "    <tr>\n",
       "      <th>1</th>\n",
       "      <td>2014-02-01</td>\n",
       "      <td>129066.644328</td>\n",
       "      <td>85558.971136</td>\n",
       "      <td>85411.066837</td>\n",
       "      <td>62965.905268</td>\n",
       "      <td>88985.070791</td>\n",
       "      <td>139918.478415</td>\n",
       "      <td>106477.616256</td>\n",
       "      <td>73125.796180</td>\n",
       "      <td>85314.498283</td>\n",
       "      <td>35724.736972</td>\n",
       "      <td>86537.865948</td>\n",
       "      <td>48540.585423</td>\n",
       "    </tr>\n",
       "    <tr>\n",
       "      <th>2</th>\n",
       "      <td>2014-03-01</td>\n",
       "      <td>125839.063910</td>\n",
       "      <td>90001.294267</td>\n",
       "      <td>94277.234440</td>\n",
       "      <td>68628.444425</td>\n",
       "      <td>95817.741643</td>\n",
       "      <td>146854.777105</td>\n",
       "      <td>113422.364932</td>\n",
       "      <td>87102.006865</td>\n",
       "      <td>92265.322253</td>\n",
       "      <td>48753.137350</td>\n",
       "      <td>159659.931900</td>\n",
       "      <td>119392.083914</td>\n",
       "    </tr>\n",
       "    <tr>\n",
       "      <th>3</th>\n",
       "      <td>2014-04-01</td>\n",
       "      <td>114641.407431</td>\n",
       "      <td>95796.142398</td>\n",
       "      <td>92468.821872</td>\n",
       "      <td>63216.047767</td>\n",
       "      <td>100797.581497</td>\n",
       "      <td>159795.382707</td>\n",
       "      <td>108056.071635</td>\n",
       "      <td>67452.563176</td>\n",
       "      <td>81395.676098</td>\n",
       "      <td>39820.960684</td>\n",
       "      <td>134870.148482</td>\n",
       "      <td>109252.289501</td>\n",
       "    </tr>\n",
       "    <tr>\n",
       "      <th>4</th>\n",
       "      <td>2014-05-01</td>\n",
       "      <td>125517.813221</td>\n",
       "      <td>103743.237469</td>\n",
       "      <td>96385.390351</td>\n",
       "      <td>63336.806493</td>\n",
       "      <td>102448.139354</td>\n",
       "      <td>144307.671018</td>\n",
       "      <td>98142.952788</td>\n",
       "      <td>51233.214201</td>\n",
       "      <td>58526.327792</td>\n",
       "      <td>22925.139473</td>\n",
       "      <td>74541.111365</td>\n",
       "      <td>44178.139672</td>\n",
       "    </tr>\n",
       "    <tr>\n",
       "      <th>...</th>\n",
       "      <td>...</td>\n",
       "      <td>...</td>\n",
       "      <td>...</td>\n",
       "      <td>...</td>\n",
       "      <td>...</td>\n",
       "      <td>...</td>\n",
       "      <td>...</td>\n",
       "      <td>...</td>\n",
       "      <td>...</td>\n",
       "      <td>...</td>\n",
       "      <td>...</td>\n",
       "      <td>...</td>\n",
       "      <td>...</td>\n",
       "    </tr>\n",
       "    <tr>\n",
       "      <th>79</th>\n",
       "      <td>2020-08-01</td>\n",
       "      <td>182982.674992</td>\n",
       "      <td>159545.892047</td>\n",
       "      <td>144114.066275</td>\n",
       "      <td>96417.578373</td>\n",
       "      <td>144933.657921</td>\n",
       "      <td>209516.482522</td>\n",
       "      <td>147459.564948</td>\n",
       "      <td>125832.830426</td>\n",
       "      <td>114311.901612</td>\n",
       "      <td>62033.772469</td>\n",
       "      <td>182427.896096</td>\n",
       "      <td>145599.580255</td>\n",
       "    </tr>\n",
       "    <tr>\n",
       "      <th>80</th>\n",
       "      <td>2020-09-01</td>\n",
       "      <td>192693.403151</td>\n",
       "      <td>141333.265296</td>\n",
       "      <td>144521.849355</td>\n",
       "      <td>99028.404725</td>\n",
       "      <td>136486.119620</td>\n",
       "      <td>220802.403877</td>\n",
       "      <td>154607.118698</td>\n",
       "      <td>144679.565911</td>\n",
       "      <td>138200.553976</td>\n",
       "      <td>81150.026141</td>\n",
       "      <td>261474.966889</td>\n",
       "      <td>207152.904109</td>\n",
       "    </tr>\n",
       "    <tr>\n",
       "      <th>81</th>\n",
       "      <td>2020-10-01</td>\n",
       "      <td>201118.837390</td>\n",
       "      <td>149759.585637</td>\n",
       "      <td>150276.394538</td>\n",
       "      <td>104313.292250</td>\n",
       "      <td>159719.427016</td>\n",
       "      <td>230141.663064</td>\n",
       "      <td>155396.329494</td>\n",
       "      <td>137628.628359</td>\n",
       "      <td>129131.499784</td>\n",
       "      <td>70231.886348</td>\n",
       "      <td>216067.795730</td>\n",
       "      <td>189088.816849</td>\n",
       "    </tr>\n",
       "    <tr>\n",
       "      <th>82</th>\n",
       "      <td>2020-11-01</td>\n",
       "      <td>234669.928200</td>\n",
       "      <td>157144.735590</td>\n",
       "      <td>167754.831608</td>\n",
       "      <td>113609.527020</td>\n",
       "      <td>166976.017233</td>\n",
       "      <td>237822.540884</td>\n",
       "      <td>173342.568565</td>\n",
       "      <td>180683.211590</td>\n",
       "      <td>158594.703654</td>\n",
       "      <td>96660.953949</td>\n",
       "      <td>295499.072240</td>\n",
       "      <td>242521.028459</td>\n",
       "    </tr>\n",
       "    <tr>\n",
       "      <th>83</th>\n",
       "      <td>2020-12-01</td>\n",
       "      <td>235208.519730</td>\n",
       "      <td>141878.598261</td>\n",
       "      <td>163949.861532</td>\n",
       "      <td>118485.092392</td>\n",
       "      <td>149984.126055</td>\n",
       "      <td>212080.417283</td>\n",
       "      <td>168090.190905</td>\n",
       "      <td>199489.895870</td>\n",
       "      <td>154871.727974</td>\n",
       "      <td>89366.522938</td>\n",
       "      <td>256522.026617</td>\n",
       "      <td>180940.780257</td>\n",
       "    </tr>\n",
       "  </tbody>\n",
       "</table>\n",
       "<p>84 rows × 13 columns</p>\n",
       "</div>"
      ],
      "text/plain": [
       "         date       Oriental  ...  Laayoune-Sakia-El-Hamra  Dakhla-Oued Ed-Dahab\n",
       "0  2014-01-01  131843.684245  ...             71744.245857          32942.090562\n",
       "1  2014-02-01  129066.644328  ...             86537.865948          48540.585423\n",
       "2  2014-03-01  125839.063910  ...            159659.931900         119392.083914\n",
       "3  2014-04-01  114641.407431  ...            134870.148482         109252.289501\n",
       "4  2014-05-01  125517.813221  ...             74541.111365          44178.139672\n",
       "..        ...            ...  ...                      ...                   ...\n",
       "79 2020-08-01  182982.674992  ...            182427.896096         145599.580255\n",
       "80 2020-09-01  192693.403151  ...            261474.966889         207152.904109\n",
       "81 2020-10-01  201118.837390  ...            216067.795730         189088.816849\n",
       "82 2020-11-01  234669.928200  ...            295499.072240         242521.028459\n",
       "83 2020-12-01  235208.519730  ...            256522.026617         180940.780257\n",
       "\n",
       "[84 rows x 13 columns]"
      ]
     },
     "execution_count": 22,
     "metadata": {
      "tags": []
     },
     "output_type": "execute_result"
    }
   ],
   "source": [
    "Data"
   ]
  },
  {
   "cell_type": "code",
   "execution_count": 23,
   "metadata": {
    "id": "vzMv9aU5jon0"
   },
   "outputs": [],
   "source": [
    "Data.to_csv(r'/content/MyData.csv')"
   ]
  }
 ],
 "metadata": {
  "colab": {
   "collapsed_sections": [],
   "name": "12Régions.ipynb",
   "provenance": []
  },
  "kernelspec": {
   "display_name": "Python 3",
   "language": "python",
   "name": "python3"
  },
  "language_info": {
   "codemirror_mode": {
    "name": "ipython",
    "version": 3
   },
   "file_extension": ".py",
   "mimetype": "text/x-python",
   "name": "python",
   "nbconvert_exporter": "python",
   "pygments_lexer": "ipython3",
   "version": "3.8.5"
  }
 },
 "nbformat": 4,
 "nbformat_minor": 1
}
